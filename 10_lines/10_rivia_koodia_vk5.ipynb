{
 "cells": [
  {
   "cell_type": "markdown",
   "metadata": {},
   "source": [
    "# Datan normalisoinnin vaikutus ennustustarkkuuteen"
   ]
  },
  {
   "cell_type": "markdown",
   "metadata": {},
   "source": [
    "Kerrataan vähän kolmannessa demotilaisuudessa käytyä MinMaxScaler-normalisointia sklearnin valmiin wine-datasetin kautta"
   ]
  },
  {
   "cell_type": "code",
   "execution_count": 1,
   "metadata": {},
   "outputs": [],
   "source": [
    "from sklearn.datasets import load_wine\n",
    "from sklearn.model_selection import train_test_split\n",
    "from sklearn.preprocessing import MinMaxScaler\n",
    "from sklearn.neighbors import KNeighborsClassifier\n",
    "from sklearn.metrics import accuracy_score"
   ]
  },
  {
   "cell_type": "code",
   "execution_count": 2,
   "metadata": {},
   "outputs": [],
   "source": [
    "data = load_wine()\n",
    "\n",
    "# data.data sisältää datasetin ominaisuudet (esim. alkoholipitoisuus, happamuus jne.)\n",
    "# data.target kertoo mihin viiniluokkaan kukin näyte kuuluu\n",
    "X, y = data.data, data.target\n",
    "\n",
    "# Jaetaan data opetus- ja testijoukkoihin.\n",
    "# test_size=0.3 määrittää, että 30% datasta menee testiin ja loput 70% jää opetukseen.\n",
    "# random_state=42 varmistaa, että data jaetaan aina samalla tavalla joka suorituskerralla, mikä auttaa tulosten vertailukelpoisuudessa.\n",
    "X_train, X_test, y_train, y_test = train_test_split(X, y, test_size=0.3, random_state=42)\n",
    "\n",
    "# Koulutetaan KNN-malli ilman normalisointia\n",
    "knn = KNeighborsClassifier(n_neighbors=5) # Käytetään 5 lähintä naapuria\n",
    "knn.fit(X_train, y_train)  # Koulutetaan malli opetusdatalla\n",
    "predictions = knn.predict(X_test)\n",
    "\n",
    "# Lasketaan tarkkuus vertaamalla ennustettuja arvoja testidatan oikeisiin arvoihin\n",
    "accuracy_no_scaling = accuracy_score(y_test, predictions)"
   ]
  },
  {
   "cell_type": "code",
   "execution_count": 3,
   "metadata": {},
   "outputs": [],
   "source": [
    "# Suoritetaan MinMaxScaler-normalisointi datan skaalaamiseksi välille 0 ja 1\n",
    "scaler = MinMaxScaler()\n",
    "\n",
    "# fit_transform laskee yhdessä operaatiossa X_train datasetin jokaisen ominaisuuden minimi- ja maksimiarvot \n",
    "# ja skaalaa X_train datan näiden arvojen perusteella\n",
    "X_train_scaled = scaler.fit_transform(X_train)\n",
    "\n",
    "# transform käyttää äsken laskettuja minimi- ja maksimiarvoja skaalatakseen X_test datan samoilla arvoilla \n",
    "# (luotettavat tulokset vaativat, että testidata skaalataan opetusdatan perusteella)\n",
    "X_test_scaled = scaler.transform(X_test)\n",
    "\n",
    "# Koulutetaan KNN-malli uudelleen normalisoidulla datalla\n",
    "knn.fit(X_train_scaled, y_train)\n",
    "predictions_scaled = knn.predict(X_test_scaled)\n",
    "\n",
    "accuracy_with_scaling = accuracy_score(y_test, predictions_scaled)"
   ]
  },
  {
   "cell_type": "markdown",
   "metadata": {},
   "source": [
    "### Tulokset:"
   ]
  },
  {
   "cell_type": "markdown",
   "metadata": {},
   "source": [
    "Kuten tuloksistakin voidaan havaita, KNN (k-nearest neighbors) on herkkä mittakaavaeroille ominaisuuksissa. \n",
    "Normalisointi voi siksi parantaa sen suorituskykyä paljon"
   ]
  },
  {
   "cell_type": "code",
   "execution_count": 4,
   "metadata": {},
   "outputs": [
    {
     "name": "stdout",
     "output_type": "stream",
     "text": [
      "Accuracy without normalization: 0.7407\n",
      "Accuracy with normalization: 0.9444\n"
     ]
    }
   ],
   "source": [
    "print(f'Accuracy without normalization: {accuracy_no_scaling:.4f}')\n",
    "print(f'Accuracy with normalization: {accuracy_with_scaling:.4f}')"
   ]
  }
 ],
 "metadata": {
  "kernelspec": {
   "display_name": "base",
   "language": "python",
   "name": "python3"
  },
  "language_info": {
   "codemirror_mode": {
    "name": "ipython",
    "version": 3
   },
   "file_extension": ".py",
   "mimetype": "text/x-python",
   "name": "python",
   "nbconvert_exporter": "python",
   "pygments_lexer": "ipython3",
   "version": "3.11.7"
  }
 },
 "nbformat": 4,
 "nbformat_minor": 2
}

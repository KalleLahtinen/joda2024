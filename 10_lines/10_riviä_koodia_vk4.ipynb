{
 "cells": [
  {
   "cell_type": "code",
   "execution_count": 1,
   "metadata": {},
   "outputs": [],
   "source": [
    "import requests\n",
    "from bs4 import BeautifulSoup"
   ]
  },
  {
   "cell_type": "markdown",
   "metadata": {},
   "source": [
    "Pick a news site to scrape from"
   ]
  },
  {
   "cell_type": "code",
   "execution_count": 2,
   "metadata": {},
   "outputs": [],
   "source": [
    "base_url = 'http://iltalehti.fi'"
   ]
  },
  {
   "cell_type": "markdown",
   "metadata": {},
   "source": [
    "You can check if scraping is allowed, and to what extent, by viewing the /robots.txt subdomain of a websites root. <br> In this case, the only non-allowed subdomain for 'manual' scraping is /preview."
   ]
  },
  {
   "cell_type": "code",
   "execution_count": 3,
   "metadata": {},
   "outputs": [
    {
     "name": "stdout",
     "output_type": "stream",
     "text": [
      "User-agent: *\n",
      "Disallow: /preview\n",
      "\n",
      "User-agent: ChatGPT-user\n",
      "Disallow: /\n",
      "\n",
      "User-agent: CCBot\n",
      "Disallow: /\n",
      "\n",
      "User-agent: GPTBot\n",
      "Disallow: /\n",
      "\n",
      "User-agent: anthropic-ai\n",
      "Disallow: /\n",
      "\n",
      "User-agent: Bytespider\n",
      "Disallow: /\n",
      "\n",
      "User-agent: Diffbot\n",
      "Disallow: /\n",
      "\n",
      "User-agent: FacebookBot\n",
      "Disallow: /\n",
      "\n",
      "User-agent: Google-Extended\n",
      "Disallow: /\n",
      "\n",
      "User-agent: omgili\n",
      "Disallow: /\n",
      "\n",
      "Sitemap: https://www.iltalehti.fi/sitemap/iltalehti.xml\n",
      "Sitemap: https://www.iltalehti.fi/sitemap/categories.xml\n",
      "Sitemap: https://www.iltalehti.fi/alekoodit/sitemap.xml\n",
      "Sitemap: https://www.iltalehti.fi/sitemap/weather/index.xml\n",
      "Sitemap: https://www.iltalehti.fi/telkku/assets/sitemap.xml\n",
      "Sitemap: https://www.iltalehti.fi/telkku/sitemap/sitemap.xml\n",
      "\n"
     ]
    }
   ],
   "source": [
    "robots_url = f'{base_url}/robots.txt'\n",
    "\n",
    "response = requests.get(robots_url)\n",
    "print(response.text)"
   ]
  },
  {
   "cell_type": "markdown",
   "metadata": {},
   "source": [
    "Scrape and print the headlines on the front page"
   ]
  },
  {
   "cell_type": "code",
   "execution_count": 4,
   "metadata": {},
   "outputs": [
    {
     "name": "stdout",
     "output_type": "stream",
     "text": [
      "Arnold Schwarze­neggerille asennettiin sydämentahdistin\n",
      "Ilves-fanit raivostuivat: ”Farssi”\n",
      "Ilvekselle katastrofi! Yleisöltä jäätävä reaktio\n",
      "Kommentti | Hyvää yötä, Ilves – Tässä fiaskon syyt\n",
      "Antti Pennasen puheet nostettiin esiin jo Pohjois-Amerikassa\n",
      "Kättelykohu – Antti Pennasen temppu nostatti raivon\n",
      "Pohjois-Gazaa uhkaa nälänhätä – IL seuraa\n",
      "Naiselle hieronta, joka kiihottaa ja rentouttaa – Näin teet sen\n",
      "EK7 | Kalle Rovanperältä käsittämätön ajo – Täyttä ylivoimaa\n",
      "Puolustus­lähteet: Italialais­hävittäjät pysäyttivät kaksi venäläis­konetta Itämeren yllä\n",
      "Puolan pääministeri: Eurooppa on siirtynyt sotaa edeltävään aikakauteen\n",
      "Zelenskyin hurja varoitus: Nämä maat voivat olla Venäjän seuraava kohde\n",
      "11-vuotias ruotsalais­lapsi kuoli Thaimaassa: Äiti varoittaa muita turisteja vaarasta, jonka harva tajuaa – ”Emme voineet tehdä yhtään mitään”\n",
      "Kotoa löytyi pesty liina ja mansikan makuista Panadolia – Emilia tiesi heti, mitä mies oli vauvalle tehnyt\n",
      "Sini kasvoi Suomen alamaailman johtohahmon tyttärenä\n",
      "Brad Pitt taipui Angelina Jolielle\n",
      "Avioero! Tori Spellingin 18 vuoden liitto ohi\n",
      "Ylen suorassa lähetyksessä nähtiin hyvin erikoinen hetki\n",
      "Ilveksen katastrofi: Poliisi lisännyt valvontaa Tampereen keskustan alueella\n",
      "Pietarista karkotetaan massoittain siirtolaisia\n"
     ]
    }
   ],
   "source": [
    "# Get the HTML of the front page using the requests library and parse it with BeautifulSoup\n",
    "response = requests.get(base_url)\n",
    "soup = BeautifulSoup(response.text, 'html.parser')\n",
    "\n",
    "# Headlines are, in this case, marked with the class 'front-title'\n",
    "headlines = soup.find_all(class_='front-title')\n",
    "\n",
    "for headline in headlines[:20]:  # Let's limit it to the first 20 headlines\n",
    "    print(headline.text.strip())"
   ]
  }
 ],
 "metadata": {
  "kernelspec": {
   "display_name": "base",
   "language": "python",
   "name": "python3"
  },
  "language_info": {
   "codemirror_mode": {
    "name": "ipython",
    "version": 3
   },
   "file_extension": ".py",
   "mimetype": "text/x-python",
   "name": "python",
   "nbconvert_exporter": "python",
   "pygments_lexer": "ipython3",
   "version": "3.11.7"
  }
 },
 "nbformat": 4,
 "nbformat_minor": 2
}

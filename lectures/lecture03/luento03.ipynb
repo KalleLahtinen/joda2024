{
 "cells": [
  {
   "cell_type": "code",
   "execution_count": 2,
   "metadata": {},
   "outputs": [],
   "source": [
    "from IPython.core.display import HTML \n",
    "from IPython.display import Image"
   ]
  },
  {
   "cell_type": "markdown",
   "metadata": {},
   "source": [
    "# JODA Luento 3"
   ]
  },
  {
   "cell_type": "markdown",
   "metadata": {},
   "source": [
    "Luentomuistion ensimmäisen version toteutti [Arho Suominen](https://www.tuni.fi/fi/ajankohtaista/kun-teknologia-muuttuu-yrityksen-taytyy-loytaa-keinot-sopeutua-muutokseen). Vuonna 2024 JODAa luennoi [Jukka Huhtamäki](https://www.tuni.fi/fi/jukka-huhtamaki)."
   ]
  },
  {
   "cell_type": "markdown",
   "metadata": {},
   "source": [
    "## Ajankohtaista\n",
    "\n",
    "* **Vierailuluento 10.4.**: datatieteilijä (tai Decision Scientist) [Eija-Leena Koponen](https://www.sourdata.fi/), Sour Data\n",
    "* Data transformation -tehtävä käynnissä\n",
    "* Edellisen Koodiklinikan opit: malli vaihtuu, prosessi pysyy"
   ]
  },
  {
   "cell_type": "markdown",
   "metadata": {},
   "source": [
    "## Oppimistavoitteet\n",
    "\n",
    "Kolmannen luentoviikon aikana keskitytään koneoppimiseen ja sen soveltamiseen datatieteessä:\n",
    "\n",
    "* Mitä on koneoppiminen? \n",
    "* Mitä ovat piirteet ja miten ne liittyvät koneoppimiseen?\n",
    "* Miten koneoppimista sovelletaan datatieteessä?\n",
    "* Onko datatiede kokonaisuudessaan koneoppimista?\n",
    "* Miten koneoppiminen ja tekoäly liittyvät toisiinsa?"
   ]
  },
  {
   "cell_type": "markdown",
   "metadata": {},
   "source": [
    "# Yritysten tapauskuvauksia"
   ]
  },
  {
   "cell_type": "markdown",
   "metadata": {},
   "source": [
    "Viikon aiheena oleva koneoppiminen toimii monessa eri roolissa datatieteesssä. [Suomen Tekoälyaika-ohjelman loppuraportti](http://urn.fi/URN:ISBN:978-952-327-411-2) käsittelee laajasti myös datatieteitä sekä esittelee usean yrityksen tapauskuvaukset. Näissä on sovellettu data-analyysiä hyvin eri tavoin ja tapauskuvaukset toimivat siksi mainiosti opintojakson täydentävänä lukemistona."
   ]
  },
  {
   "cell_type": "markdown",
   "metadata": {},
   "source": [
    "![Tekoälyaika-raportin kuva](image/tekoalyaika-kuva1.png)"
   ]
  },
  {
   "cell_type": "markdown",
   "metadata": {},
   "source": [
    "# Koneoppimisen periaatteet"
   ]
  },
  {
   "cell_type": "markdown",
   "metadata": {},
   "source": [
    "Aloitetaan muutamalla sanalla eri koneoppimisalgoritmien tyypeistä; ohjattu, ohjaamaton ja vahvistettu oppiminen. Erinomainen teksti [algoritmien jaottelusta](https://en.proft.me/2015/12/24/types-machine-learning-algorithms/)."
   ]
  },
  {
   "cell_type": "markdown",
   "metadata": {},
   "source": [
    "!['Koneoppimisalgoritmien jaottelua'](http://en.proft.me/media/science/ml_types2.png)"
   ]
  },
  {
   "cell_type": "markdown",
   "metadata": {},
   "source": [
    "[Tekoälyaika-raportin](http://urn.fi/URN:ISBN:978-952-327-411-2) mukaan \n",
    "\n",
    "<blockquote>[t]ekoälyn kehitystä voidaan hahmottaa jakamalla se teknologia-aaltoihin. DARPAn John Launchbury ehdottaa jaottelua kolmeen aaltoon:\n",
    "\n",
    "* käsin rakennetut toteutukset,\n",
    "* tilastollinen oppiminen ja\n",
    "* tilanteeseen mukautuva oppiva tekoäly.\n",
    "\n",
    "Ensimmäistä aaltoa kutsutaan myös symboliseksi tai klassiseksi tekoälyksi, koska se oli tekoälytutkimuksen keskiössä 1960-luvulta 1980-luvulle. Tilastollinen oppiminen on nykyisin vallitseva teknologia, jota edustavat koneoppiminen ja syvät neuroverkot. Kolmannen aallon odotetaan nousevan 2020-luvulla.<blockquote>"
   ]
  },
  {
   "cell_type": "markdown",
   "metadata": {},
   "source": [
    "Tekoäly ei ole käärmeöljyä eli ihmelääke joka automaattisesti muuttaa liiketoiminnan kannattavaksi:"
   ]
  },
  {
   "cell_type": "markdown",
   "metadata": {},
   "source": [
    "<blockquote>Kun sata yritystä kokeilee tekoälyä, ehkä vain kymmenen löytää kannattavan liiketoimintamallin. <cite>– Volker Tresp</cite></blockquote>\n",
    "    \n",
    "<blockquote>Kuorruttamalla nykyistä toimintaa tekoälyllä ei voi pelastaa yrityksiä, joilla on vaikeuksia perusliiketoiminnassaan. <cite>– Christian Guttmann</cite></blockquote>"
   ]
  },
  {
   "cell_type": "markdown",
   "metadata": {},
   "source": [
    "## Ohjattu oppiminen\n",
    "\n",
    "Tänään tarkastelussa on erityisesti ohjattu oppiminen. \n",
    "\n",
    "![Ohjatun oppimisen prosessi](image/supervised-learning.jpeg)"
   ]
  },
  {
   "cell_type": "markdown",
   "metadata": {},
   "source": [
    "### Piirteet (engl. features)"
   ]
  },
  {
   "cell_type": "markdown",
   "metadata": {},
   "source": [
    "Laskennallinen analytiikka perustuu piirteisiin (engl. feature), ks. [Näin laadullinen tieto jalostuu laskennalliseksi: piirteet sosiaalisen median analytiikassa](https://rajapinta.co/2017/10/16/nain-laadullinen-tieto-jalostuu-laskennalliseksi-piirteet-sosiaalisen-median-analytiikassa/). Piirteet voivat olla binäärisiä, kategoria tai jatkuvia. Piirteet ovat syötteen muuttujan synonyymi. Esimerkkinä voidaan pitää lääkärin diagnoosia. Piirteitä ovat erilaiset potilaalle tehtävät analyysit ja mittaukset (esim. kuume, verenkuva jne.). Piirteet ovat laskentataulukon sarakkeita ja yksittäiset havainnot ovat rivejä."
   ]
  },
  {
   "cell_type": "markdown",
   "metadata": {},
   "source": [
    "Ihmisten asiantuntemusta tarvitaan muuntamaan lähtödata ([\"raakadata\"](https://mitpress.mit.edu/books/raw-data-oxymoron)) joukoksi koneoppimisen kannalta hyödyllisiä ominaisuuksia. Tätä prosessia voidaan täydentää ja ja avustaa eri menetelmillä, jotka automaattisesti tunnistavat piirteitä. Prosesseja ovat esimerkiksi:"
   ]
  },
  {
   "cell_type": "markdown",
   "metadata": {},
   "source": [
    "* **Standardointi**: Ominaisuudet voivat olla esimerkiksi mittakaavoja, kuten pituus ja leveys. Tilanteessa jossa leveys on mitattu sentteinä ja pituus metreinä, on meidän aluksi harmonisoitava muuttujat. \n",
    "* **Kohinan poisto**: Syötteen käsittelyyn voidaan käyttää eri menetelmiä tunnistaa syötteessä esiintyvää taustakohintaa tai kausivaihtelua.\n",
    "* **Ulottuvuuksien vähentäminen**: Tilanteessa, jossa syöte on hyvin moniulotteista, voidaan käyttää esimerkiksi pääkomponenttianalyysia vähentämään syötteen ulottuvuuksia.\n",
    "* **Ulottuvuuksien kasvattaminen**: Voimme pyrkiä myös kasvattamaan aineiston ulottuvuuksia jalostamalla uusia muuttujia esimerkiksi luonnollisen kielen käsittelyn (natural language processing, NLP) avulla."
   ]
  },
  {
   "cell_type": "markdown",
   "metadata": {},
   "source": [
    "[Piirteiden jalostaminen](https://medium.com/mindorks/what-is-feature-engineering-for-machine-learning-d8ba3158d97a) (feature engineering) on tärkeä koneoppimisen osa-alue.  "
   ]
  },
  {
   "cell_type": "markdown",
   "metadata": {},
   "source": [
    "Katsotaan esimerkkiä siitä, että keräisimme ryömijällä ja raapijalla lisää aineistoa asiakkaiden suhtautumisesta tuotteisiimme. Valitaan asiakaspalautteiden keräämisen pohjaksi Amazon-verkkokaupan [asiakaspalautekenttää](https://www.amazon.com/Nokia-7-1-Unlocked-Smartphone-T-Mobile/dp/B07HD2X91Q/ref=sr_1_4?crid=204SDF2IU7SB6&keywords=nokia+9&qid=1552905465&s=gateway&sprefix=nokia+%2Caps%2C590&sr=8-4)."
   ]
  },
  {
   "cell_type": "code",
   "execution_count": 3,
   "metadata": {},
   "outputs": [
    {
     "data": {
      "text/plain": [
       "\"I was excited to see Nokia offer this phone in the US so I jumped when it was available for sale. If you have any doubts about the build quality or looks of this phone, you can dismiss them. The phone is extremely well built and looks fantastic. I would say better than some phones costing twice as much. The specs are pretty decent for the price as well - especially for a phone loaded with Android One. No heavy skin to weigh things down like so many other budget offerings. The icing on the cake is the screen. It's sharp, bright and the colors are very accurate. Again, hitting outside its class for a mid-range phone actually available and officially supported in the US market. Unfortunately, even with the SD 636 and 4GB of RAM, this phone lags and stutters a lot. I let all the updates finish loading before passing judgment but even with nothing running in the background, this thing just can't keep up. Swiping left into the Google feed is smooth as silk one time and jerky the next. Apps load slow and often times I would find myself tapping on an app icon twice thinking it didn't register my tap. It did but was just taking that long to even start loading. Pulling down the notification shade is another 50/50 experience - sometimes smooth, sometimes choppy. The camera app is also pretty sluggish for a phone with a 636 processor. The camera app is solid once it loads and photos are snappy to capture with good quality and detail in adequate lighting. Just don't expect miracles in low light at this price unless you have something to keep the phone very still and venture into pro mode. The mono speaker gets loud with only some minor distortion at high volume. Music sounds good through headphones but it doesn't push a lot of power to them so it's best to avoid anything with a higher impedance. Again, to be expected at this price. The HDR feature is nice and does make things pop a bit more but nothing mind blowing. Still, a nice little bonus to have in such an affordable phone with an IPS display. Finally, it has full support for US GSM carriers. I used it with T-Mobile and VoLTE worked great, data speeds were solid and connectivity was good even indoors. It should be noted if you are in an area with T-Mobile band 71 support, this phone does not support band 71. If you rely on Extended LTE with T-Mobile, you are limited to using band 12. I wanted to love this phone given how it looks and feels in the hand and all it brings at a good price. The screen is a pleasure to look at and photos are solid. I just can't get past the choppy UI experience. For a phone with Android One, it's definitely a letdown. I have a Moto G6 as my secondary device and that phone actually lags less in day-to-day use with far lesser specs. Perhaps this is something that can be fixed with a software update or will be addressed when the Android Pie update pushes out later this month. For now, if you purchase this phone expecting a smooth UI experience, you will likely be disappointed.\""
      ]
     },
     "execution_count": 3,
     "metadata": {},
     "output_type": "execute_result"
    }
   ],
   "source": [
    "# Jotta voidaan mukavasti tarkastella tuloksia napattiin arvioista yksi.\n",
    "arvio = \"I was excited to see Nokia offer this phone in the US so I jumped when it was available for sale. If you have any doubts about the build quality or looks of this phone, you can dismiss them. The phone is extremely well built and looks fantastic. I would say better than some phones costing twice as much. The specs are pretty decent for the price as well - especially for a phone loaded with Android One. No heavy skin to weigh things down like so many other budget offerings. The icing on the cake is the screen. It's sharp, bright and the colors are very accurate. Again, hitting outside its class for a mid-range phone actually available and officially supported in the US market. Unfortunately, even with the SD 636 and 4GB of RAM, this phone lags and stutters a lot. I let all the updates finish loading before passing judgment but even with nothing running in the background, this thing just can't keep up. Swiping left into the Google feed is smooth as silk one time and jerky the next. Apps load slow and often times I would find myself tapping on an app icon twice thinking it didn't register my tap. It did but was just taking that long to even start loading. Pulling down the notification shade is another 50/50 experience - sometimes smooth, sometimes choppy. The camera app is also pretty sluggish for a phone with a 636 processor. The camera app is solid once it loads and photos are snappy to capture with good quality and detail in adequate lighting. Just don't expect miracles in low light at this price unless you have something to keep the phone very still and venture into pro mode. The mono speaker gets loud with only some minor distortion at high volume. Music sounds good through headphones but it doesn't push a lot of power to them so it's best to avoid anything with a higher impedance. Again, to be expected at this price. The HDR feature is nice and does make things pop a bit more but nothing mind blowing. Still, a nice little bonus to have in such an affordable phone with an IPS display. Finally, it has full support for US GSM carriers. I used it with T-Mobile and VoLTE worked great, data speeds were solid and connectivity was good even indoors. It should be noted if you are in an area with T-Mobile band 71 support, this phone does not support band 71. If you rely on Extended LTE with T-Mobile, you are limited to using band 12. I wanted to love this phone given how it looks and feels in the hand and all it brings at a good price. The screen is a pleasure to look at and photos are solid. I just can't get past the choppy UI experience. For a phone with Android One, it's definitely a letdown. I have a Moto G6 as my secondary device and that phone actually lags less in day-to-day use with far lesser specs. Perhaps this is something that can be fixed with a software update or will be addressed when the Android Pie update pushes out later this month. For now, if you purchase this phone expecting a smooth UI experience, you will likely be disappointed.\"\n",
    "arvio"
   ]
  },
  {
   "cell_type": "markdown",
   "metadata": {},
   "source": [
    "Aloitetaan analyysi kevyesti tarkastelemalla mistä arvio koostuu. \n",
    "\n",
    "Esimerkissä hyödynnetään [NLTK](https://www.nltk.org/)-kirjastoa, johon luonnollisen kielen analyysisovellukset ovat perinteisesti perustuneet. Viimeisten vuosien aikana [spaCy](https://spacy.io/) on noussut NLTK:n rinnalle ja ohi. [Tuomo Hiippalan oppimateriaalit](https://www.youtube.com/channel/UCqI8-flen1SrldnJzkhzMHw) mahdollistavat syventymisen aiheeseen.   "
   ]
  },
  {
   "cell_type": "code",
   "execution_count": 4,
   "metadata": {},
   "outputs": [
    {
     "name": "stderr",
     "output_type": "stream",
     "text": [
      "/Users/huhtis/opt/anaconda3/lib/python3.8/site-packages/IPython/core/display.py:717: UserWarning: Consider using IPython.display.IFrame instead\n",
      "  warnings.warn(\"Consider using IPython.display.IFrame instead\")\n"
     ]
    },
    {
     "data": {
      "text/html": [
       "<iframe width=\"560\" height=\"315\" src=\"https://www.youtube.com/embed/X2vAabgKiuM\" frameborder=\"0\" allow=\"accelerometer; autoplay; encrypted-media; gyroscope; picture-in-picture\" allowfullscreen></iframe>"
      ],
      "text/plain": [
       "<IPython.core.display.HTML object>"
      ]
     },
     "execution_count": 4,
     "metadata": {},
     "output_type": "execute_result"
    }
   ],
   "source": [
    "HTML('<iframe width=\"560\" height=\"315\" src=\"https://www.youtube.com/embed/X2vAabgKiuM\" frameborder=\"0\" allow=\"accelerometer; autoplay; encrypted-media; gyroscope; picture-in-picture\" allowfullscreen></iframe>')"
   ]
  },
  {
   "cell_type": "code",
   "execution_count": 5,
   "metadata": {},
   "outputs": [
    {
     "name": "stderr",
     "output_type": "stream",
     "text": [
      "[nltk_data] Downloading package punkt to /Users/huhtis/nltk_data...\n",
      "[nltk_data]   Unzipping tokenizers/punkt.zip.\n"
     ]
    },
    {
     "data": {
      "text/plain": [
       "True"
      ]
     },
     "execution_count": 5,
     "metadata": {},
     "output_type": "execute_result"
    }
   ],
   "source": [
    "# Ladataan erikseen NLTK:n paketti jota analyysissä tarvitaan\n",
    "import nltk\n",
    "nltk.download('punkt')"
   ]
  },
  {
   "cell_type": "code",
   "execution_count": 4,
   "metadata": {},
   "outputs": [
    {
     "name": "stdout",
     "output_type": "stream",
     "text": [
      "['I', 'was', 'excited', 'to', 'see', 'Nokia', 'offer', 'this', 'phone', 'in', 'the', 'US', 'so', 'I', 'jumped', 'when', 'it', 'was', 'available', 'for', 'sale', '.', 'If', 'you', 'have', 'any', 'doubts', 'about', 'the', 'build', 'quality', 'or', 'looks', 'of', 'this', 'phone', ',', 'you', 'can', 'dismiss', 'them', '.', 'The', 'phone', 'is', 'extremely', 'well', 'built', 'and', 'looks', 'fantastic', '.', 'I', 'would', 'say', 'better', 'than', 'some', 'phones', 'costing', 'twice', 'as', 'much', '.', 'The', 'specs', 'are', 'pretty', 'decent', 'for', 'the', 'price', 'as', 'well', '-', 'especially', 'for', 'a', 'phone', 'loaded', 'with', 'Android', 'One', '.', 'No', 'heavy', 'skin', 'to', 'weigh', 'things', 'down', 'like', 'so', 'many', 'other', 'budget', 'offerings', '.', 'The', 'icing', 'on', 'the', 'cake', 'is', 'the', 'screen', '.', 'It', \"'s\", 'sharp', ',', 'bright', 'and', 'the', 'colors', 'are', 'very', 'accurate', '.', 'Again', ',', 'hitting', 'outside', 'its', 'class', 'for', 'a', 'mid-range', 'phone', 'actually', 'available', 'and', 'officially', 'supported', 'in', 'the', 'US', 'market', '.', 'Unfortunately', ',', 'even', 'with', 'the', 'SD', '636', 'and', '4GB', 'of', 'RAM', ',', 'this', 'phone', 'lags', 'and', 'stutters', 'a', 'lot', '.', 'I', 'let', 'all', 'the', 'updates', 'finish', 'loading', 'before', 'passing', 'judgment', 'but', 'even', 'with', 'nothing', 'running', 'in', 'the', 'background', ',', 'this', 'thing', 'just', 'ca', \"n't\", 'keep', 'up', '.', 'Swiping', 'left', 'into', 'the', 'Google', 'feed', 'is', 'smooth', 'as', 'silk', 'one', 'time', 'and', 'jerky', 'the', 'next', '.', 'Apps', 'load', 'slow', 'and', 'often', 'times', 'I', 'would', 'find', 'myself', 'tapping', 'on', 'an', 'app', 'icon', 'twice', 'thinking', 'it', 'did', \"n't\", 'register', 'my', 'tap', '.', 'It', 'did', 'but', 'was', 'just', 'taking', 'that', 'long', 'to', 'even', 'start', 'loading', '.', 'Pulling', 'down', 'the', 'notification', 'shade', 'is', 'another', '50/50', 'experience', '-', 'sometimes', 'smooth', ',', 'sometimes', 'choppy', '.', 'The', 'camera', 'app', 'is', 'also', 'pretty', 'sluggish', 'for', 'a', 'phone', 'with', 'a', '636', 'processor', '.', 'The', 'camera', 'app', 'is', 'solid', 'once', 'it', 'loads', 'and', 'photos', 'are', 'snappy', 'to', 'capture', 'with', 'good', 'quality', 'and', 'detail', 'in', 'adequate', 'lighting', '.', 'Just', 'do', \"n't\", 'expect', 'miracles', 'in', 'low', 'light', 'at', 'this', 'price', 'unless', 'you', 'have', 'something', 'to', 'keep', 'the', 'phone', 'very', 'still', 'and', 'venture', 'into', 'pro', 'mode', '.', 'The', 'mono', 'speaker', 'gets', 'loud', 'with', 'only', 'some', 'minor', 'distortion', 'at', 'high', 'volume', '.', 'Music', 'sounds', 'good', 'through', 'headphones', 'but', 'it', 'does', \"n't\", 'push', 'a', 'lot', 'of', 'power', 'to', 'them', 'so', 'it', \"'s\", 'best', 'to', 'avoid', 'anything', 'with', 'a', 'higher', 'impedance', '.', 'Again', ',', 'to', 'be', 'expected', 'at', 'this', 'price', '.', 'The', 'HDR', 'feature', 'is', 'nice', 'and', 'does', 'make', 'things', 'pop', 'a', 'bit', 'more', 'but', 'nothing', 'mind', 'blowing', '.', 'Still', ',', 'a', 'nice', 'little', 'bonus', 'to', 'have', 'in', 'such', 'an', 'affordable', 'phone', 'with', 'an', 'IPS', 'display', '.', 'Finally', ',', 'it', 'has', 'full', 'support', 'for', 'US', 'GSM', 'carriers', '.', 'I', 'used', 'it', 'with', 'T-Mobile', 'and', 'VoLTE', 'worked', 'great', ',', 'data', 'speeds', 'were', 'solid', 'and', 'connectivity', 'was', 'good', 'even', 'indoors', '.', 'It', 'should', 'be', 'noted', 'if', 'you', 'are', 'in', 'an', 'area', 'with', 'T-Mobile', 'band', '71', 'support', ',', 'this', 'phone', 'does', 'not', 'support', 'band', '71', '.', 'If', 'you', 'rely', 'on', 'Extended', 'LTE', 'with', 'T-Mobile', ',', 'you', 'are', 'limited', 'to', 'using', 'band', '12', '.', 'I', 'wanted', 'to', 'love', 'this', 'phone', 'given', 'how', 'it', 'looks', 'and', 'feels', 'in', 'the', 'hand', 'and', 'all', 'it', 'brings', 'at', 'a', 'good', 'price', '.', 'The', 'screen', 'is', 'a', 'pleasure', 'to', 'look', 'at', 'and', 'photos', 'are', 'solid', '.', 'I', 'just', 'ca', \"n't\", 'get', 'past', 'the', 'choppy', 'UI', 'experience', '.', 'For', 'a', 'phone', 'with', 'Android', 'One', ',', 'it', \"'s\", 'definitely', 'a', 'letdown', '.', 'I', 'have', 'a', 'Moto', 'G6', 'as', 'my', 'secondary', 'device', 'and', 'that', 'phone', 'actually', 'lags', 'less', 'in', 'day-to-day', 'use', 'with', 'far', 'lesser', 'specs', '.', 'Perhaps', 'this', 'is', 'something', 'that', 'can', 'be', 'fixed', 'with', 'a', 'software', 'update', 'or', 'will', 'be', 'addressed', 'when', 'the', 'Android', 'Pie', 'update', 'pushes', 'out', 'later', 'this', 'month', '.', 'For', 'now', ',', 'if', 'you', 'purchase', 'this', 'phone', 'expecting', 'a', 'smooth', 'UI', 'experience', ',', 'you', 'will', 'likely', 'be', 'disappointed', '.']\n"
     ]
    }
   ],
   "source": [
    "# Pilkotaan arvio sanoiksi eli 'tokeneiksi'\n",
    "from nltk.tokenize import word_tokenize\n",
    "tokenArvio=word_tokenize(arvio)\n",
    "print(tokenArvio)"
   ]
  },
  {
   "cell_type": "markdown",
   "metadata": {},
   "source": [
    "Onkohan tekstissä jotain tunnistettavia piirteitä jotka voisimme huomioida?"
   ]
  },
  {
   "cell_type": "code",
   "execution_count": 5,
   "metadata": {},
   "outputs": [
    {
     "name": "stdout",
     "output_type": "stream",
     "text": [
      "<FreqDist with 297 samples and 612 outcomes>\n"
     ]
    }
   ],
   "source": [
    "# Katsotaan miten sanojen kappalemäärä on jakautunut\n",
    "from nltk.probability import FreqDist\n",
    "fdist = FreqDist(tokenArvio)\n",
    "print(fdist)"
   ]
  },
  {
   "cell_type": "code",
   "execution_count": 6,
   "metadata": {},
   "outputs": [
    {
     "data": {
      "image/png": "[encoded data removed]",
      "text/plain": [
       "<Figure size 432x288 with 1 Axes>"
      ]
     },
     "metadata": {
      "needs_background": "light"
     },
     "output_type": "display_data"
    }
   ],
   "source": [
    "# Tehdään sanajakaumasta kuvaaja\n",
    "import matplotlib.pyplot as plt\n",
    "fdist.plot(30, cumulative=False)\n",
    "plt.show()"
   ]
  },
  {
   "cell_type": "markdown",
   "metadata": {},
   "source": [
    "Sanojen jakauma ei kuvaa kovinkaan hyvin sisältöä, joten esiprosessointia on jatkettava. Aloitetaan vaikka poistamalla [hukkasanat](https://tieteentermipankki.fi/wiki/Language_Technology:stop-word) (stop word), jotka eivät lisää ymmärrystämme sisällöstä. Nostaako tämä esille piirteitä?"
   ]
  },
  {
   "cell_type": "code",
   "execution_count": 7,
   "metadata": {},
   "outputs": [
    {
     "name": "stderr",
     "output_type": "stream",
     "text": [
      "[nltk_data] Downloading package stopwords to\n",
      "[nltk_data]     /Users/huhtis/nltk_data...\n",
      "[nltk_data]   Package stopwords is already up-to-date!\n"
     ]
    },
    {
     "data": {
      "text/plain": [
       "True"
      ]
     },
     "execution_count": 7,
     "metadata": {},
     "output_type": "execute_result"
    }
   ],
   "source": [
    "nltk.download('stopwords')"
   ]
  },
  {
   "cell_type": "code",
   "execution_count": 8,
   "metadata": {},
   "outputs": [
    {
     "name": "stdout",
     "output_type": "stream",
     "text": [
      "<WordListCorpusReader in '/Users/huhtis/nltk_data/corpora/stopwords'>\n"
     ]
    }
   ],
   "source": [
    "# Ladataan NLTK Stopword-lista\n",
    "from nltk.corpus import stopwords\n",
    "stopword=set(stopwords.words(\"english\"))\n",
    "print(stopwords)"
   ]
  },
  {
   "cell_type": "code",
   "execution_count": 9,
   "metadata": {},
   "outputs": [
    {
     "data": {
      "image/png": "[encoded data removed]",
      "text/plain": [
       "<Figure size 432x288 with 1 Axes>"
      ]
     },
     "metadata": {
      "needs_background": "light"
     },
     "output_type": "display_data"
    }
   ],
   "source": [
    "# luodaan uusin muuttuja johon listaamme arvion sanat kun olemme ensin poistaneet hukkasanat ja välimerkit\n",
    "putsattuStopArvio=[]\n",
    "for w in tokenArvio:\n",
    "    if w not in stopword:\n",
    "        putsattuStopArvio.append(w)\n",
    "putsattuStopArvio=[sana.lower() for sana in putsattuStopArvio if sana.isalpha()]\n",
    "fdist = FreqDist(putsattuStopArvio)\n",
    "fdist.plot(30,cumulative=False)\n",
    "plt.show()"
   ]
  },
  {
   "cell_type": "markdown",
   "metadata": {},
   "source": [
    "TF-IDF\n",
    "\n",
    "Kun käytössä on yhden dokumentin sijaan kokonainen aineisto, [TF-IDF-algoritmi](https://www.tidytextmining.com/tfidf.html) mahdollistaa kätevän tavan nostaa esiin tietyssä dokumentissä (tässä yksittäinen arvio) esiintyviä merkityksellisiä sanoja."
   ]
  },
  {
   "cell_type": "markdown",
   "metadata": {},
   "source": [
    "Voimme myös hyödyntää lauserakennetta tunnistaaksemme sen ominaisuuksia."
   ]
  },
  {
   "cell_type": "code",
   "execution_count": 13,
   "metadata": {},
   "outputs": [
    {
     "name": "stderr",
     "output_type": "stream",
     "text": [
      "[nltk_data] Downloading package averaged_perceptron_tagger to\n",
      "[nltk_data]     /Users/huhtis/nltk_data...\n",
      "[nltk_data]   Package averaged_perceptron_tagger is already up-to-\n",
      "[nltk_data]       date!\n"
     ]
    },
    {
     "data": {
      "text/plain": [
       "True"
      ]
     },
     "execution_count": 13,
     "metadata": {},
     "output_type": "execute_result"
    }
   ],
   "source": [
    "nltk.download('averaged_perceptron_tagger')"
   ]
  },
  {
   "cell_type": "code",
   "execution_count": 6,
   "metadata": {},
   "outputs": [
    {
     "data": {
      "text/plain": [
       "[('I', 'PRP'),\n",
       " ('was', 'VBD'),\n",
       " ('excited', 'VBN'),\n",
       " ('to', 'TO'),\n",
       " ('see', 'VB'),\n",
       " ('Nokia', 'NNP'),\n",
       " ('offer', 'VB'),\n",
       " ('this', 'DT'),\n",
       " ('phone', 'NN'),\n",
       " ('in', 'IN'),\n",
       " ('the', 'DT'),\n",
       " ('US', 'NNP'),\n",
       " ('so', 'IN'),\n",
       " ('I', 'PRP'),\n",
       " ('jumped', 'VBD'),\n",
       " ('when', 'WRB'),\n",
       " ('it', 'PRP'),\n",
       " ('was', 'VBD'),\n",
       " ('available', 'JJ'),\n",
       " ('for', 'IN'),\n",
       " ('sale', 'NN'),\n",
       " ('.', '.')]"
      ]
     },
     "execution_count": 6,
     "metadata": {},
     "output_type": "execute_result"
    }
   ],
   "source": [
    "from nltk.tokenize import sent_tokenize\n",
    "\n",
    "# Tarkastelun helpottamiseksi katsotaan vain yhtä lausetta\n",
    "lauseet=sent_tokenize(arvio)\n",
    "# Part of speech (POS) -tunnisteet\n",
    "lauseToken=nltk.word_tokenize(lauseet[0])\n",
    "nltk.pos_tag(lauseToken)"
   ]
  },
  {
   "cell_type": "markdown",
   "metadata": {},
   "source": [
    "Yksityiskohtainen kuvaus [NLTK-kirjaston Part of Speech -tunnisteista](https://medium.com/@gianpaul.r/tokenization-and-parts-of-speech-pos-tagging-in-pythons-nltk-library-2d30f70af13b) auttaa eteenpäin.\n",
    "\n",
    "Voimme myös arvioida kokonaisuutena lauseiden tunnesävyä eli sentimenttiä."
   ]
  },
  {
   "cell_type": "code",
   "execution_count": 7,
   "metadata": {},
   "outputs": [
    {
     "name": "stdout",
     "output_type": "stream",
     "text": [
      "['neg', 'neg', 'pos', 'neg', 'pos', 'neg', 'neg', 'pos', 'neutral', 'neg', 'neg', 'neutral', 'neg', 'neg', 'pos', 'neg', 'pos', 'pos', 'neg', 'pos', 'neg', 'pos', 'pos', 'pos', 'pos', 'neg', 'neutral', 'pos', 'pos', 'neg', 'pos', 'pos', 'neutral', 'neg']\n"
     ]
    }
   ],
   "source": [
    "import os, json,time\n",
    "sentimentti=[]\n",
    "for lause in lauseet:\n",
    "    # TODO: requests tukee HTTP-pyyntöjen tekemistä\n",
    "    result = json.loads(os.popen('curl -d \"text='+lause+'\" http://text-processing.com/api/sentiment/').read())\n",
    "    time.sleep(3)\n",
    "    sentimentti.append(result['label'])\n",
    "print(sentimentti)"
   ]
  },
  {
   "cell_type": "markdown",
   "metadata": {},
   "source": [
    "Ulkoisen palvelun sijaan on syytä rakentaa osana analyysiputkea toimiva komponentti."
   ]
  },
  {
   "cell_type": "code",
   "execution_count": 17,
   "metadata": {},
   "outputs": [
    {
     "name": "stdout",
     "output_type": "stream",
     "text": [
      "{'probability': {'neg': 0.36403357076311493, 'neutral': 0.16730443630443656, 'pos': 0.6359664292368851}, 'label': 'pos'}\n"
     ]
    }
   ],
   "source": [
    "print(json.loads(os.popen('curl -d \"text='+arvio+'\" http://text-processing.com/api/sentiment/').read()))"
   ]
  },
  {
   "cell_type": "markdown",
   "metadata": {},
   "source": [
    "Piirteiden valinnassa lähtökohtana on se, että niiden vaikutus tutkittavaan ilmiöön on ymmärrettävä. On kuitenkin huomattava, että piirteiden valitsemiseksi on myös muita \"hyviä syitä\", esimerkiksi\n",
    "\n",
    "1. Tallennettavan tietomäärän vähentäminen\n",
    "2. Piirteiden määrän pienentäminen, jotta voidaan säästää resursseja tulevissa tiedonkeruuprosesseissa\n",
    "3. Suorituskyvyn parantaminen\n",
    "4. Tietojen kuvaileminen tai visualisointi\n",
    "5. Vrt. diagnostinen, kartoittava, kuvaileva, ennustava, ohjaava analytiikka"
   ]
  },
  {
   "cell_type": "markdown",
   "metadata": {},
   "source": []
  },
  {
   "cell_type": "markdown",
   "metadata": {},
   "source": [
    "## Ohjatun oppimisen sovelluksia\n",
    "\n",
    "* [Lineaarinen regressio](https://towardsdatascience.com/introduction-to-linear-regression-in-python-c12a072bedf0) on yksinkertaisin ohjatun oppimisen menetelmä\n",
    "* Voit hyödyntää esimerkiksi [Airbnb-hintaennustinta](https://github.com/InfoTUNI/joda2022/blob/master/koodiesimerkit/airnbn/python_scikit_airbnb.ipynb) omassa datatiedeprojektin pohjassasi\n",
    "\n",
    "### Siirrytään ensimmäiseen analyysiin"
   ]
  },
  {
   "cell_type": "markdown",
   "metadata": {},
   "source": [
    "Kokeillaan tehdä ensimmäinen käytännön työväline, joka pystyy tekemään itsestään liiketoimintarelevantin päätöksen. Käytämme olemassa olevaa aineistoa siihen, että luomme mallin jolle voimme antaa tehtäväksi sen saako asiakas lainaa vai ei.\n",
    "\n",
    "Ladataan tarvittavat paketit - tunnetko nämä? Jos muutenkin tuntuu siltä, että vielä pitäisi tehdä oma [\"Hello World -kokeilu\"](https://machinelearningmastery.com/machine-learning-in-python-step-by-step/), kannattaa se varmaan tehdä ja palata sitten tähän."
   ]
  },
  {
   "cell_type": "code",
   "execution_count": 3,
   "metadata": {},
   "outputs": [],
   "source": [
    "import numpy as np\n",
    "import matplotlib.pyplot as plt\n",
    "import pandas as pd\n",
    "from sklearn import preprocessing\n",
    "#from sklearn.preprocessing import StandardScaler\n",
    "from sklearn.impute import SimpleImputer\n",
    "from sklearn.model_selection import train_test_split\n",
    "from sklearn.metrics import mean_squared_error"
   ]
  },
  {
   "cell_type": "markdown",
   "metadata": {},
   "source": [
    "Hyödynnämme analyysissä Kagglessa jaossa olevaa [Bank Loan Status -datasettiä](https://www.kaggle.com/zaurbegiev/my-dataset/version/1), jonka avulla [opetamme](https://course.elementsofai.com/fi/4/1) luottopäätösautomaatin. Muistellaanpa vielä ensimmäiseltä luennolta kaaviota erilaisista koneoppimismenetelmistä."
   ]
  },
  {
   "cell_type": "markdown",
   "metadata": {},
   "source": [
    "![\"Scikit-learn map\"](https://scikit-learn.org/stable/_static/ml_map.png)"
   ]
  },
  {
   "cell_type": "code",
   "execution_count": 4,
   "metadata": {},
   "outputs": [],
   "source": [
    "df = pd.read_csv(\"data/credit_train.csv\")"
   ]
  },
  {
   "cell_type": "markdown",
   "metadata": {},
   "source": [
    "Katsotaan mitä dataa on ollaan käsittelemässä - havaintoja?"
   ]
  },
  {
   "cell_type": "code",
   "execution_count": 10,
   "metadata": {},
   "outputs": [
    {
     "name": "stdout",
     "output_type": "stream",
     "text": [
      "<class 'pandas.core.frame.DataFrame'>\n",
      "RangeIndex: 100514 entries, 0 to 100513\n",
      "Data columns (total 19 columns):\n",
      " #   Column                        Non-Null Count   Dtype  \n",
      "---  ------                        --------------   -----  \n",
      " 0   Loan ID                       100000 non-null  object \n",
      " 1   Customer ID                   100000 non-null  object \n",
      " 2   Loan Status                   100000 non-null  object \n",
      " 3   Current Loan Amount           100000 non-null  float64\n",
      " 4   Term                          100000 non-null  object \n",
      " 5   Credit Score                  80846 non-null   float64\n",
      " 6   Annual Income                 80846 non-null   float64\n",
      " 7   Years in current job          95778 non-null   object \n",
      " 8   Home Ownership                100000 non-null  object \n",
      " 9   Purpose                       100000 non-null  object \n",
      " 10  Monthly Debt                  100000 non-null  float64\n",
      " 11  Years of Credit History       100000 non-null  float64\n",
      " 12  Months since last delinquent  46859 non-null   float64\n",
      " 13  Number of Open Accounts       100000 non-null  float64\n",
      " 14  Number of Credit Problems     100000 non-null  float64\n",
      " 15  Current Credit Balance        100000 non-null  float64\n",
      " 16  Maximum Open Credit           99998 non-null   float64\n",
      " 17  Bankruptcies                  99796 non-null   float64\n",
      " 18  Tax Liens                     99990 non-null   float64\n",
      "dtypes: float64(12), object(7)\n",
      "memory usage: 14.6+ MB\n"
     ]
    }
   ],
   "source": [
    "df.info()"
   ]
  },
  {
   "cell_type": "code",
   "execution_count": 23,
   "metadata": {},
   "outputs": [
    {
     "data": {
      "text/html": [
       "<div>\n",
       "<style scoped>\n",
       "    .dataframe tbody tr th:only-of-type {\n",
       "        vertical-align: middle;\n",
       "    }\n",
       "\n",
       "    .dataframe tbody tr th {\n",
       "        vertical-align: top;\n",
       "    }\n",
       "\n",
       "    .dataframe thead th {\n",
       "        text-align: right;\n",
       "    }\n",
       "</style>\n",
       "<table border=\"1\" class=\"dataframe\">\n",
       "  <thead>\n",
       "    <tr style=\"text-align: right;\">\n",
       "      <th></th>\n",
       "      <th>Loan ID</th>\n",
       "      <th>Customer ID</th>\n",
       "      <th>Loan Status</th>\n",
       "      <th>Current Loan Amount</th>\n",
       "      <th>Term</th>\n",
       "      <th>Credit Score</th>\n",
       "      <th>Annual Income</th>\n",
       "      <th>Years in current job</th>\n",
       "      <th>Home Ownership</th>\n",
       "      <th>Purpose</th>\n",
       "      <th>Monthly Debt</th>\n",
       "      <th>Years of Credit History</th>\n",
       "      <th>Months since last delinquent</th>\n",
       "      <th>Number of Open Accounts</th>\n",
       "      <th>Number of Credit Problems</th>\n",
       "      <th>Current Credit Balance</th>\n",
       "      <th>Maximum Open Credit</th>\n",
       "      <th>Bankruptcies</th>\n",
       "      <th>Tax Liens</th>\n",
       "    </tr>\n",
       "  </thead>\n",
       "  <tbody>\n",
       "    <tr>\n",
       "      <th>0</th>\n",
       "      <td>14dd8831-6af5-400b-83ec-68e61888a048</td>\n",
       "      <td>981165ec-3274-42f5-a3b4-d104041a9ca9</td>\n",
       "      <td>Fully Paid</td>\n",
       "      <td>445412.0</td>\n",
       "      <td>Short Term</td>\n",
       "      <td>709.0</td>\n",
       "      <td>1167493.0</td>\n",
       "      <td>8 years</td>\n",
       "      <td>Home Mortgage</td>\n",
       "      <td>Home Improvements</td>\n",
       "      <td>5214.74</td>\n",
       "      <td>17.2</td>\n",
       "      <td>NaN</td>\n",
       "      <td>6.0</td>\n",
       "      <td>1.0</td>\n",
       "      <td>228190.0</td>\n",
       "      <td>416746.0</td>\n",
       "      <td>1.0</td>\n",
       "      <td>0.0</td>\n",
       "    </tr>\n",
       "    <tr>\n",
       "      <th>1</th>\n",
       "      <td>4771cc26-131a-45db-b5aa-537ea4ba5342</td>\n",
       "      <td>2de017a3-2e01-49cb-a581-08169e83be29</td>\n",
       "      <td>Fully Paid</td>\n",
       "      <td>262328.0</td>\n",
       "      <td>Short Term</td>\n",
       "      <td>NaN</td>\n",
       "      <td>NaN</td>\n",
       "      <td>10+ years</td>\n",
       "      <td>Home Mortgage</td>\n",
       "      <td>Debt Consolidation</td>\n",
       "      <td>33295.98</td>\n",
       "      <td>21.1</td>\n",
       "      <td>8.0</td>\n",
       "      <td>35.0</td>\n",
       "      <td>0.0</td>\n",
       "      <td>229976.0</td>\n",
       "      <td>850784.0</td>\n",
       "      <td>0.0</td>\n",
       "      <td>0.0</td>\n",
       "    </tr>\n",
       "    <tr>\n",
       "      <th>2</th>\n",
       "      <td>4eed4e6a-aa2f-4c91-8651-ce984ee8fb26</td>\n",
       "      <td>5efb2b2b-bf11-4dfd-a572-3761a2694725</td>\n",
       "      <td>Fully Paid</td>\n",
       "      <td>99999999.0</td>\n",
       "      <td>Short Term</td>\n",
       "      <td>741.0</td>\n",
       "      <td>2231892.0</td>\n",
       "      <td>8 years</td>\n",
       "      <td>Own Home</td>\n",
       "      <td>Debt Consolidation</td>\n",
       "      <td>29200.53</td>\n",
       "      <td>14.9</td>\n",
       "      <td>29.0</td>\n",
       "      <td>18.0</td>\n",
       "      <td>1.0</td>\n",
       "      <td>297996.0</td>\n",
       "      <td>750090.0</td>\n",
       "      <td>0.0</td>\n",
       "      <td>0.0</td>\n",
       "    </tr>\n",
       "    <tr>\n",
       "      <th>3</th>\n",
       "      <td>77598f7b-32e7-4e3b-a6e5-06ba0d98fe8a</td>\n",
       "      <td>e777faab-98ae-45af-9a86-7ce5b33b1011</td>\n",
       "      <td>Fully Paid</td>\n",
       "      <td>347666.0</td>\n",
       "      <td>Long Term</td>\n",
       "      <td>721.0</td>\n",
       "      <td>806949.0</td>\n",
       "      <td>3 years</td>\n",
       "      <td>Own Home</td>\n",
       "      <td>Debt Consolidation</td>\n",
       "      <td>8741.90</td>\n",
       "      <td>12.0</td>\n",
       "      <td>NaN</td>\n",
       "      <td>9.0</td>\n",
       "      <td>0.0</td>\n",
       "      <td>256329.0</td>\n",
       "      <td>386958.0</td>\n",
       "      <td>0.0</td>\n",
       "      <td>0.0</td>\n",
       "    </tr>\n",
       "    <tr>\n",
       "      <th>4</th>\n",
       "      <td>d4062e70-befa-4995-8643-a0de73938182</td>\n",
       "      <td>81536ad9-5ccf-4eb8-befb-47a4d608658e</td>\n",
       "      <td>Fully Paid</td>\n",
       "      <td>176220.0</td>\n",
       "      <td>Short Term</td>\n",
       "      <td>NaN</td>\n",
       "      <td>NaN</td>\n",
       "      <td>5 years</td>\n",
       "      <td>Rent</td>\n",
       "      <td>Debt Consolidation</td>\n",
       "      <td>20639.70</td>\n",
       "      <td>6.1</td>\n",
       "      <td>NaN</td>\n",
       "      <td>15.0</td>\n",
       "      <td>0.0</td>\n",
       "      <td>253460.0</td>\n",
       "      <td>427174.0</td>\n",
       "      <td>0.0</td>\n",
       "      <td>0.0</td>\n",
       "    </tr>\n",
       "  </tbody>\n",
       "</table>\n",
       "</div>"
      ],
      "text/plain": [
       "                                Loan ID                           Customer ID  \\\n",
       "0  14dd8831-6af5-400b-83ec-68e61888a048  981165ec-3274-42f5-a3b4-d104041a9ca9   \n",
       "1  4771cc26-131a-45db-b5aa-537ea4ba5342  2de017a3-2e01-49cb-a581-08169e83be29   \n",
       "2  4eed4e6a-aa2f-4c91-8651-ce984ee8fb26  5efb2b2b-bf11-4dfd-a572-3761a2694725   \n",
       "3  77598f7b-32e7-4e3b-a6e5-06ba0d98fe8a  e777faab-98ae-45af-9a86-7ce5b33b1011   \n",
       "4  d4062e70-befa-4995-8643-a0de73938182  81536ad9-5ccf-4eb8-befb-47a4d608658e   \n",
       "\n",
       "  Loan Status  Current Loan Amount        Term  Credit Score  Annual Income  \\\n",
       "0  Fully Paid             445412.0  Short Term         709.0      1167493.0   \n",
       "1  Fully Paid             262328.0  Short Term           NaN            NaN   \n",
       "2  Fully Paid           99999999.0  Short Term         741.0      2231892.0   \n",
       "3  Fully Paid             347666.0   Long Term         721.0       806949.0   \n",
       "4  Fully Paid             176220.0  Short Term           NaN            NaN   \n",
       "\n",
       "  Years in current job Home Ownership             Purpose  Monthly Debt  \\\n",
       "0              8 years  Home Mortgage   Home Improvements       5214.74   \n",
       "1            10+ years  Home Mortgage  Debt Consolidation      33295.98   \n",
       "2              8 years       Own Home  Debt Consolidation      29200.53   \n",
       "3              3 years       Own Home  Debt Consolidation       8741.90   \n",
       "4              5 years           Rent  Debt Consolidation      20639.70   \n",
       "\n",
       "   Years of Credit History  Months since last delinquent  \\\n",
       "0                     17.2                           NaN   \n",
       "1                     21.1                           8.0   \n",
       "2                     14.9                          29.0   \n",
       "3                     12.0                           NaN   \n",
       "4                      6.1                           NaN   \n",
       "\n",
       "   Number of Open Accounts  Number of Credit Problems  Current Credit Balance  \\\n",
       "0                      6.0                        1.0                228190.0   \n",
       "1                     35.0                        0.0                229976.0   \n",
       "2                     18.0                        1.0                297996.0   \n",
       "3                      9.0                        0.0                256329.0   \n",
       "4                     15.0                        0.0                253460.0   \n",
       "\n",
       "   Maximum Open Credit  Bankruptcies  Tax Liens  \n",
       "0             416746.0           1.0        0.0  \n",
       "1             850784.0           0.0        0.0  \n",
       "2             750090.0           0.0        0.0  \n",
       "3             386958.0           0.0        0.0  \n",
       "4             427174.0           0.0        0.0  "
      ]
     },
     "execution_count": 23,
     "metadata": {},
     "output_type": "execute_result"
    }
   ],
   "source": [
    "df.head()"
   ]
  },
  {
   "cell_type": "markdown",
   "metadata": {},
   "source": [
    "Kaikki ei näytä olevan ihan kunnossa, mutta dataa on kohtuullisesti."
   ]
  },
  {
   "cell_type": "code",
   "execution_count": 11,
   "metadata": {},
   "outputs": [
    {
     "data": {
      "text/plain": [
       "Loan ID                          object\n",
       "Customer ID                      object\n",
       "Loan Status                      object\n",
       "Current Loan Amount             float64\n",
       "Term                             object\n",
       "Credit Score                    float64\n",
       "Annual Income                   float64\n",
       "Years in current job             object\n",
       "Home Ownership                   object\n",
       "Purpose                          object\n",
       "Monthly Debt                    float64\n",
       "Years of Credit History         float64\n",
       "Months since last delinquent    float64\n",
       "Number of Open Accounts         float64\n",
       "Number of Credit Problems       float64\n",
       "Current Credit Balance          float64\n",
       "Maximum Open Credit             float64\n",
       "Bankruptcies                    float64\n",
       "Tax Liens                       float64\n",
       "dtype: object"
      ]
     },
     "execution_count": 11,
     "metadata": {},
     "output_type": "execute_result"
    }
   ],
   "source": [
    "df.dtypes"
   ]
  },
  {
   "cell_type": "markdown",
   "metadata": {},
   "source": [
    "Tänään käytetään SDG Regressor algoritmia. [Scikit-learn käyttäjäopas](https://scikit-learn.org/stable/modules/sgd.html#sgd) toteaa seuraavasti:"
   ]
  },
  {
   "cell_type": "markdown",
   "metadata": {},
   "source": [
    "<blockquote>Stochastic Gradient Descent (SGD) is a simple yet very efficient approach to discriminative learning of linear classifiers under convex loss functions such as (linear) Support Vector Machines and Logistic Regression. Even though SGD has been around in the machine learning community for a long time, it has received a considerable amount of attention just recently in the context of large-scale learning.</blockquote>"
   ]
  },
  {
   "cell_type": "markdown",
   "metadata": {},
   "source": [
    "Tehdään siis hieman datan prosessointia ennen kuin voidaan edetä:\n",
    "\n",
    "* Käsitellään kategorisen muuttujat, jotta ne voidaan ottaa osaksi analyysiä (hot encoding)\n",
    "* [Täydennetään puuttuvat tiedot](https://www.fsd.tuni.fi/menetelmaopetus/puuttuvat/puuttuvat.html) kyseisten muuuttujien keskiarvoilla (imputointi)\n",
    "* Päätetään mitkä muuttujat jäävät osaksi analyysiä\n",
    "* Jaetaan syöte opetus- ja testiaineistoon\n",
    "\n",
    "Luokittelijan toiminta käytetään yksityiskohtaisemmin läpi viikon Koodiklinikalla."
   ]
  },
  {
   "cell_type": "code",
   "execution_count": 12,
   "metadata": {},
   "outputs": [],
   "source": [
    "def siivoaData(data):\n",
    "\n",
    "    # Mikä on muuttuja, josta olemme kiinnostuneita?\n",
    "    # Haluamme tietysti ymmärtää muuttujaa lainan tilanne \"Loan staus\"\n",
    "    # Kaksiarvoinen muuttuja kuvaa sitä, maksetaanko laina takaisin vai ei.\n",
    "\n",
    "    # Haluammeko poistaa jotain muuttujia?\n",
    "    poistettavatMuuttujat = ['Loan ID','Customer ID']\n",
    "    data = data.drop(poistettavatMuuttujat, axis=1)\n",
    "    \n",
    "    # Annetaan keskiarvot puutuville tietopisteille - onko tämä järkevää?\n",
    "    sarakkeet = ['Current Loan Amount', 'Credit Score', 'Annual Income', 'Years of Credit History', \n",
    "                 'Months since last delinquent', 'Number of Open Accounts', 'Number of Credit Problems',\n",
    "                 'Current Credit Balance', 'Maximum Open Credit', 'Bankruptcies', 'Tax Liens']\n",
    "    muuttujanTäyttäjä = SimpleImputer()\n",
    "    data[sarakkeet] = muuttujanTäyttäjä.fit_transform(data[sarakkeet])\n",
    "    data[sarakkeet] = data[sarakkeet].astype(int)\n",
    "    \n",
    "    # Poistetaan vielä rivit joiden arvo puuttuu - paljonko dataa lähtee?\n",
    "    data=data.dropna()\n",
    "    \n",
    "    # Valitaan muuttuja, josta olemme kiinnostuneita ja koodataan se\n",
    "    y = data['Loan Status']\n",
    "    new_y = []\n",
    "    for i in y:\n",
    "        if i == 'Fully Paid':\n",
    "            new_y.append(1)\n",
    "        else:\n",
    "            new_y.append(0)\n",
    "    data = data.drop('Loan Status', axis=1)\n",
    "    \n",
    "    # Koodataan kategoriset muuttujat\n",
    "    data = pd.get_dummies(data)\n",
    "    # print(data.head())\n",
    "     \n",
    "    # Normalisoidaan data\n",
    "    # Palautamme myös dataMean ja dataDev arvot jos haluamme syöttää koneelle uusia havaintoja\n",
    "    dataMean = np.mean(data, axis=0)\n",
    "    dataDev = np.std(data, axis=0)\n",
    "    norm_x= (data - dataMean) / dataDev\n",
    "    \n",
    "    x = data.values #muutetaan numpy array\n",
    "    min_max_scaler = preprocessing.MinMaxScaler()\n",
    "    x_scaled = min_max_scaler.fit_transform(x)\n",
    "    normMinMax = pd.DataFrame(x_scaled)\n",
    "\n",
    "    return norm_x, normMinMax, data, new_y, dataMean, dataDev"
   ]
  },
  {
   "cell_type": "code",
   "execution_count": 13,
   "metadata": {},
   "outputs": [],
   "source": [
    "x, xMinMax, xNoNorm, y, xMean, xDev = siivoaData(df)"
   ]
  },
  {
   "cell_type": "markdown",
   "metadata": {},
   "source": [
    "Jaetaan aineisto seuraavaksi opetus- ja testiaineistoon."
   ]
  },
  {
   "cell_type": "code",
   "execution_count": 14,
   "metadata": {},
   "outputs": [],
   "source": [
    "def opetusTestiJako(xMinMax, y):\n",
    "    x_train, x_test, y_train, y_test = train_test_split(x,y, test_size= 0.25, random_state=33)\n",
    "    return x_train, x_test, y_train, y_test"
   ]
  },
  {
   "cell_type": "code",
   "execution_count": 15,
   "metadata": {},
   "outputs": [],
   "source": [
    "x_train, x_test, y_train, y_test = opetusTestiJako(x,y)\n",
    "xMinMax_train, xMinMax_test, y_train, y_test = opetusTestiJako(xMinMax, y)\n",
    "xNoNorm_train, xNoNorm_test, y_train, y_test = opetusTestiJako(xNoNorm, y)"
   ]
  },
  {
   "cell_type": "markdown",
   "metadata": {},
   "source": [
    "Katsotaan minkälaista dataa meillä on käytössä."
   ]
  },
  {
   "cell_type": "code",
   "execution_count": 16,
   "metadata": {},
   "outputs": [
    {
     "data": {
      "text/html": [
       "<div>\n",
       "<style scoped>\n",
       "    .dataframe tbody tr th:only-of-type {\n",
       "        vertical-align: middle;\n",
       "    }\n",
       "\n",
       "    .dataframe tbody tr th {\n",
       "        vertical-align: top;\n",
       "    }\n",
       "\n",
       "    .dataframe thead th {\n",
       "        text-align: right;\n",
       "    }\n",
       "</style>\n",
       "<table border=\"1\" class=\"dataframe\">\n",
       "  <thead>\n",
       "    <tr style=\"text-align: right;\">\n",
       "      <th></th>\n",
       "      <th>Current Loan Amount</th>\n",
       "      <th>Credit Score</th>\n",
       "      <th>Annual Income</th>\n",
       "      <th>Monthly Debt</th>\n",
       "      <th>Years of Credit History</th>\n",
       "      <th>Months since last delinquent</th>\n",
       "      <th>Number of Open Accounts</th>\n",
       "      <th>Number of Credit Problems</th>\n",
       "      <th>Current Credit Balance</th>\n",
       "      <th>Maximum Open Credit</th>\n",
       "      <th>...</th>\n",
       "      <th>Purpose_Medical Bills</th>\n",
       "      <th>Purpose_Other</th>\n",
       "      <th>Purpose_Take a Trip</th>\n",
       "      <th>Purpose_major_purchase</th>\n",
       "      <th>Purpose_moving</th>\n",
       "      <th>Purpose_other</th>\n",
       "      <th>Purpose_renewable_energy</th>\n",
       "      <th>Purpose_small_business</th>\n",
       "      <th>Purpose_vacation</th>\n",
       "      <th>Purpose_wedding</th>\n",
       "    </tr>\n",
       "  </thead>\n",
       "  <tbody>\n",
       "    <tr>\n",
       "      <th>0</th>\n",
       "      <td>-0.357163</td>\n",
       "      <td>-0.275813</td>\n",
       "      <td>-0.231181</td>\n",
       "      <td>-1.102757</td>\n",
       "      <td>-0.083655</td>\n",
       "      <td>-0.025223</td>\n",
       "      <td>-1.032353</td>\n",
       "      <td>1.766006</td>\n",
       "      <td>-0.181761</td>\n",
       "      <td>-0.040651</td>\n",
       "      <td>...</td>\n",
       "      <td>-0.104978</td>\n",
       "      <td>-0.183257</td>\n",
       "      <td>-0.075789</td>\n",
       "      <td>-0.059067</td>\n",
       "      <td>-0.038123</td>\n",
       "      <td>-0.251364</td>\n",
       "      <td>-0.010219</td>\n",
       "      <td>-0.053954</td>\n",
       "      <td>-0.03151</td>\n",
       "      <td>-0.034521</td>\n",
       "    </tr>\n",
       "    <tr>\n",
       "      <th>1</th>\n",
       "      <td>-0.362911</td>\n",
       "      <td>0.002478</td>\n",
       "      <td>-0.017082</td>\n",
       "      <td>1.193086</td>\n",
       "      <td>0.503508</td>\n",
       "      <td>-1.750770</td>\n",
       "      <td>4.744319</td>\n",
       "      <td>-0.342213</td>\n",
       "      <td>-0.177039</td>\n",
       "      <td>0.010157</td>\n",
       "      <td>...</td>\n",
       "      <td>-0.104978</td>\n",
       "      <td>-0.183257</td>\n",
       "      <td>-0.075789</td>\n",
       "      <td>-0.059067</td>\n",
       "      <td>-0.038123</td>\n",
       "      <td>-0.251364</td>\n",
       "      <td>-0.010219</td>\n",
       "      <td>-0.053954</td>\n",
       "      <td>-0.03151</td>\n",
       "      <td>-0.034521</td>\n",
       "    </tr>\n",
       "    <tr>\n",
       "      <th>2</th>\n",
       "      <td>2.768168</td>\n",
       "      <td>-0.251548</td>\n",
       "      <td>0.849964</td>\n",
       "      <td>0.858254</td>\n",
       "      <td>-0.524027</td>\n",
       "      <td>-0.357059</td>\n",
       "      <td>1.357994</td>\n",
       "      <td>1.766006</td>\n",
       "      <td>0.002775</td>\n",
       "      <td>-0.001630</td>\n",
       "      <td>...</td>\n",
       "      <td>-0.104978</td>\n",
       "      <td>-0.183257</td>\n",
       "      <td>-0.075789</td>\n",
       "      <td>-0.059067</td>\n",
       "      <td>-0.038123</td>\n",
       "      <td>-0.251364</td>\n",
       "      <td>-0.010219</td>\n",
       "      <td>-0.053954</td>\n",
       "      <td>-0.03151</td>\n",
       "      <td>-0.034521</td>\n",
       "    </tr>\n",
       "    <tr>\n",
       "      <th>3</th>\n",
       "      <td>-0.360232</td>\n",
       "      <td>-0.266714</td>\n",
       "      <td>-0.597397</td>\n",
       "      <td>-0.814386</td>\n",
       "      <td>-0.817608</td>\n",
       "      <td>-0.025223</td>\n",
       "      <td>-0.434766</td>\n",
       "      <td>-0.342213</td>\n",
       "      <td>-0.107374</td>\n",
       "      <td>-0.044138</td>\n",
       "      <td>...</td>\n",
       "      <td>-0.104978</td>\n",
       "      <td>-0.183257</td>\n",
       "      <td>-0.075789</td>\n",
       "      <td>-0.059067</td>\n",
       "      <td>-0.038123</td>\n",
       "      <td>-0.251364</td>\n",
       "      <td>-0.010219</td>\n",
       "      <td>-0.053954</td>\n",
       "      <td>-0.03151</td>\n",
       "      <td>-0.034521</td>\n",
       "    </tr>\n",
       "    <tr>\n",
       "      <th>4</th>\n",
       "      <td>-0.365614</td>\n",
       "      <td>0.002478</td>\n",
       "      <td>-0.017082</td>\n",
       "      <td>0.158344</td>\n",
       "      <td>-1.698352</td>\n",
       "      <td>-0.025223</td>\n",
       "      <td>0.760407</td>\n",
       "      <td>-0.342213</td>\n",
       "      <td>-0.114958</td>\n",
       "      <td>-0.039430</td>\n",
       "      <td>...</td>\n",
       "      <td>-0.104978</td>\n",
       "      <td>-0.183257</td>\n",
       "      <td>-0.075789</td>\n",
       "      <td>-0.059067</td>\n",
       "      <td>-0.038123</td>\n",
       "      <td>-0.251364</td>\n",
       "      <td>-0.010219</td>\n",
       "      <td>-0.053954</td>\n",
       "      <td>-0.03151</td>\n",
       "      <td>-0.034521</td>\n",
       "    </tr>\n",
       "  </tbody>\n",
       "</table>\n",
       "<p>5 rows × 45 columns</p>\n",
       "</div>"
      ],
      "text/plain": [
       "   Current Loan Amount  Credit Score  Annual Income  Monthly Debt  \\\n",
       "0            -0.357163     -0.275813      -0.231181     -1.102757   \n",
       "1            -0.362911      0.002478      -0.017082      1.193086   \n",
       "2             2.768168     -0.251548       0.849964      0.858254   \n",
       "3            -0.360232     -0.266714      -0.597397     -0.814386   \n",
       "4            -0.365614      0.002478      -0.017082      0.158344   \n",
       "\n",
       "   Years of Credit History  Months since last delinquent  \\\n",
       "0                -0.083655                     -0.025223   \n",
       "1                 0.503508                     -1.750770   \n",
       "2                -0.524027                     -0.357059   \n",
       "3                -0.817608                     -0.025223   \n",
       "4                -1.698352                     -0.025223   \n",
       "\n",
       "   Number of Open Accounts  Number of Credit Problems  Current Credit Balance  \\\n",
       "0                -1.032353                   1.766006               -0.181761   \n",
       "1                 4.744319                  -0.342213               -0.177039   \n",
       "2                 1.357994                   1.766006                0.002775   \n",
       "3                -0.434766                  -0.342213               -0.107374   \n",
       "4                 0.760407                  -0.342213               -0.114958   \n",
       "\n",
       "   Maximum Open Credit  ...  Purpose_Medical Bills  Purpose_Other  \\\n",
       "0            -0.040651  ...              -0.104978      -0.183257   \n",
       "1             0.010157  ...              -0.104978      -0.183257   \n",
       "2            -0.001630  ...              -0.104978      -0.183257   \n",
       "3            -0.044138  ...              -0.104978      -0.183257   \n",
       "4            -0.039430  ...              -0.104978      -0.183257   \n",
       "\n",
       "   Purpose_Take a Trip  Purpose_major_purchase  Purpose_moving  Purpose_other  \\\n",
       "0            -0.075789               -0.059067       -0.038123      -0.251364   \n",
       "1            -0.075789               -0.059067       -0.038123      -0.251364   \n",
       "2            -0.075789               -0.059067       -0.038123      -0.251364   \n",
       "3            -0.075789               -0.059067       -0.038123      -0.251364   \n",
       "4            -0.075789               -0.059067       -0.038123      -0.251364   \n",
       "\n",
       "   Purpose_renewable_energy  Purpose_small_business  Purpose_vacation  \\\n",
       "0                 -0.010219               -0.053954          -0.03151   \n",
       "1                 -0.010219               -0.053954          -0.03151   \n",
       "2                 -0.010219               -0.053954          -0.03151   \n",
       "3                 -0.010219               -0.053954          -0.03151   \n",
       "4                 -0.010219               -0.053954          -0.03151   \n",
       "\n",
       "   Purpose_wedding  \n",
       "0        -0.034521  \n",
       "1        -0.034521  \n",
       "2        -0.034521  \n",
       "3        -0.034521  \n",
       "4        -0.034521  \n",
       "\n",
       "[5 rows x 45 columns]"
      ]
     },
     "execution_count": 16,
     "metadata": {},
     "output_type": "execute_result"
    }
   ],
   "source": [
    "# Kuvaus datasta joka on normalisoitu keskiarvolla ja hajonnalla\n",
    "x.head()"
   ]
  },
  {
   "cell_type": "code",
   "execution_count": 30,
   "metadata": {},
   "outputs": [
    {
     "data": {
      "text/html": [
       "<div>\n",
       "<style scoped>\n",
       "    .dataframe tbody tr th:only-of-type {\n",
       "        vertical-align: middle;\n",
       "    }\n",
       "\n",
       "    .dataframe tbody tr th {\n",
       "        vertical-align: top;\n",
       "    }\n",
       "\n",
       "    .dataframe thead th {\n",
       "        text-align: right;\n",
       "    }\n",
       "</style>\n",
       "<table border=\"1\" class=\"dataframe\">\n",
       "  <thead>\n",
       "    <tr style=\"text-align: right;\">\n",
       "      <th></th>\n",
       "      <th>0</th>\n",
       "      <th>1</th>\n",
       "      <th>2</th>\n",
       "      <th>3</th>\n",
       "      <th>4</th>\n",
       "      <th>5</th>\n",
       "      <th>6</th>\n",
       "      <th>7</th>\n",
       "      <th>8</th>\n",
       "      <th>9</th>\n",
       "      <th>...</th>\n",
       "      <th>35</th>\n",
       "      <th>36</th>\n",
       "      <th>37</th>\n",
       "      <th>38</th>\n",
       "      <th>39</th>\n",
       "      <th>40</th>\n",
       "      <th>41</th>\n",
       "      <th>42</th>\n",
       "      <th>43</th>\n",
       "      <th>44</th>\n",
       "    </tr>\n",
       "  </thead>\n",
       "  <tbody>\n",
       "    <tr>\n",
       "      <th>0</th>\n",
       "      <td>0.004347</td>\n",
       "      <td>0.017906</td>\n",
       "      <td>0.006592</td>\n",
       "      <td>0.011965</td>\n",
       "      <td>0.208955</td>\n",
       "      <td>0.193182</td>\n",
       "      <td>0.078947</td>\n",
       "      <td>0.066667</td>\n",
       "      <td>0.006940</td>\n",
       "      <td>0.000271</td>\n",
       "      <td>...</td>\n",
       "      <td>0.0</td>\n",
       "      <td>0.0</td>\n",
       "      <td>0.0</td>\n",
       "      <td>0.0</td>\n",
       "      <td>0.0</td>\n",
       "      <td>0.0</td>\n",
       "      <td>0.0</td>\n",
       "      <td>0.0</td>\n",
       "      <td>0.0</td>\n",
       "      <td>0.0</td>\n",
       "    </tr>\n",
       "    <tr>\n",
       "      <th>1</th>\n",
       "      <td>0.002516</td>\n",
       "      <td>0.070903</td>\n",
       "      <td>0.007866</td>\n",
       "      <td>0.076394</td>\n",
       "      <td>0.268657</td>\n",
       "      <td>0.045455</td>\n",
       "      <td>0.460526</td>\n",
       "      <td>0.000000</td>\n",
       "      <td>0.006995</td>\n",
       "      <td>0.000553</td>\n",
       "      <td>...</td>\n",
       "      <td>0.0</td>\n",
       "      <td>0.0</td>\n",
       "      <td>0.0</td>\n",
       "      <td>0.0</td>\n",
       "      <td>0.0</td>\n",
       "      <td>0.0</td>\n",
       "      <td>0.0</td>\n",
       "      <td>0.0</td>\n",
       "      <td>0.0</td>\n",
       "      <td>0.0</td>\n",
       "    </tr>\n",
       "    <tr>\n",
       "      <th>2</th>\n",
       "      <td>1.000000</td>\n",
       "      <td>0.022527</td>\n",
       "      <td>0.013024</td>\n",
       "      <td>0.066998</td>\n",
       "      <td>0.164179</td>\n",
       "      <td>0.164773</td>\n",
       "      <td>0.236842</td>\n",
       "      <td>0.066667</td>\n",
       "      <td>0.009063</td>\n",
       "      <td>0.000487</td>\n",
       "      <td>...</td>\n",
       "      <td>0.0</td>\n",
       "      <td>0.0</td>\n",
       "      <td>0.0</td>\n",
       "      <td>0.0</td>\n",
       "      <td>0.0</td>\n",
       "      <td>0.0</td>\n",
       "      <td>0.0</td>\n",
       "      <td>0.0</td>\n",
       "      <td>0.0</td>\n",
       "      <td>0.0</td>\n",
       "    </tr>\n",
       "    <tr>\n",
       "      <th>3</th>\n",
       "      <td>0.003369</td>\n",
       "      <td>0.019639</td>\n",
       "      <td>0.004413</td>\n",
       "      <td>0.020057</td>\n",
       "      <td>0.134328</td>\n",
       "      <td>0.193182</td>\n",
       "      <td>0.118421</td>\n",
       "      <td>0.000000</td>\n",
       "      <td>0.007796</td>\n",
       "      <td>0.000251</td>\n",
       "      <td>...</td>\n",
       "      <td>0.0</td>\n",
       "      <td>0.0</td>\n",
       "      <td>0.0</td>\n",
       "      <td>0.0</td>\n",
       "      <td>0.0</td>\n",
       "      <td>0.0</td>\n",
       "      <td>0.0</td>\n",
       "      <td>0.0</td>\n",
       "      <td>0.0</td>\n",
       "      <td>0.0</td>\n",
       "    </tr>\n",
       "    <tr>\n",
       "      <th>4</th>\n",
       "      <td>0.001654</td>\n",
       "      <td>0.070903</td>\n",
       "      <td>0.007866</td>\n",
       "      <td>0.047356</td>\n",
       "      <td>0.044776</td>\n",
       "      <td>0.193182</td>\n",
       "      <td>0.197368</td>\n",
       "      <td>0.000000</td>\n",
       "      <td>0.007709</td>\n",
       "      <td>0.000277</td>\n",
       "      <td>...</td>\n",
       "      <td>0.0</td>\n",
       "      <td>0.0</td>\n",
       "      <td>0.0</td>\n",
       "      <td>0.0</td>\n",
       "      <td>0.0</td>\n",
       "      <td>0.0</td>\n",
       "      <td>0.0</td>\n",
       "      <td>0.0</td>\n",
       "      <td>0.0</td>\n",
       "      <td>0.0</td>\n",
       "    </tr>\n",
       "  </tbody>\n",
       "</table>\n",
       "<p>5 rows × 45 columns</p>\n",
       "</div>"
      ],
      "text/plain": [
       "         0         1         2         3         4         5         6   \\\n",
       "0  0.004347  0.017906  0.006592  0.011965  0.208955  0.193182  0.078947   \n",
       "1  0.002516  0.070903  0.007866  0.076394  0.268657  0.045455  0.460526   \n",
       "2  1.000000  0.022527  0.013024  0.066998  0.164179  0.164773  0.236842   \n",
       "3  0.003369  0.019639  0.004413  0.020057  0.134328  0.193182  0.118421   \n",
       "4  0.001654  0.070903  0.007866  0.047356  0.044776  0.193182  0.197368   \n",
       "\n",
       "         7         8         9   ...   35   36   37   38   39   40   41   42  \\\n",
       "0  0.066667  0.006940  0.000271  ...  0.0  0.0  0.0  0.0  0.0  0.0  0.0  0.0   \n",
       "1  0.000000  0.006995  0.000553  ...  0.0  0.0  0.0  0.0  0.0  0.0  0.0  0.0   \n",
       "2  0.066667  0.009063  0.000487  ...  0.0  0.0  0.0  0.0  0.0  0.0  0.0  0.0   \n",
       "3  0.000000  0.007796  0.000251  ...  0.0  0.0  0.0  0.0  0.0  0.0  0.0  0.0   \n",
       "4  0.000000  0.007709  0.000277  ...  0.0  0.0  0.0  0.0  0.0  0.0  0.0  0.0   \n",
       "\n",
       "    43   44  \n",
       "0  0.0  0.0  \n",
       "1  0.0  0.0  \n",
       "2  0.0  0.0  \n",
       "3  0.0  0.0  \n",
       "4  0.0  0.0  \n",
       "\n",
       "[5 rows x 45 columns]"
      ]
     },
     "execution_count": 30,
     "metadata": {},
     "output_type": "execute_result"
    }
   ],
   "source": [
    "# Kuvaus datasta joka on Min-Max -normalisoitu\n",
    "xMinMax.head()"
   ]
  },
  {
   "cell_type": "code",
   "execution_count": 31,
   "metadata": {},
   "outputs": [
    {
     "data": {
      "text/html": [
       "<div>\n",
       "<style scoped>\n",
       "    .dataframe tbody tr th:only-of-type {\n",
       "        vertical-align: middle;\n",
       "    }\n",
       "\n",
       "    .dataframe tbody tr th {\n",
       "        vertical-align: top;\n",
       "    }\n",
       "\n",
       "    .dataframe thead th {\n",
       "        text-align: right;\n",
       "    }\n",
       "</style>\n",
       "<table border=\"1\" class=\"dataframe\">\n",
       "  <thead>\n",
       "    <tr style=\"text-align: right;\">\n",
       "      <th></th>\n",
       "      <th>Current Loan Amount</th>\n",
       "      <th>Credit Score</th>\n",
       "      <th>Annual Income</th>\n",
       "      <th>Monthly Debt</th>\n",
       "      <th>Years of Credit History</th>\n",
       "      <th>Months since last delinquent</th>\n",
       "      <th>Number of Open Accounts</th>\n",
       "      <th>Number of Credit Problems</th>\n",
       "      <th>Current Credit Balance</th>\n",
       "      <th>Maximum Open Credit</th>\n",
       "      <th>...</th>\n",
       "      <th>Purpose_Medical Bills</th>\n",
       "      <th>Purpose_Other</th>\n",
       "      <th>Purpose_Take a Trip</th>\n",
       "      <th>Purpose_major_purchase</th>\n",
       "      <th>Purpose_moving</th>\n",
       "      <th>Purpose_other</th>\n",
       "      <th>Purpose_renewable_energy</th>\n",
       "      <th>Purpose_small_business</th>\n",
       "      <th>Purpose_vacation</th>\n",
       "      <th>Purpose_wedding</th>\n",
       "    </tr>\n",
       "  </thead>\n",
       "  <tbody>\n",
       "    <tr>\n",
       "      <th>0</th>\n",
       "      <td>445412</td>\n",
       "      <td>709</td>\n",
       "      <td>1167493</td>\n",
       "      <td>5214.74</td>\n",
       "      <td>17</td>\n",
       "      <td>34</td>\n",
       "      <td>6</td>\n",
       "      <td>1</td>\n",
       "      <td>228190</td>\n",
       "      <td>416746</td>\n",
       "      <td>...</td>\n",
       "      <td>0</td>\n",
       "      <td>0</td>\n",
       "      <td>0</td>\n",
       "      <td>0</td>\n",
       "      <td>0</td>\n",
       "      <td>0</td>\n",
       "      <td>0</td>\n",
       "      <td>0</td>\n",
       "      <td>0</td>\n",
       "      <td>0</td>\n",
       "    </tr>\n",
       "    <tr>\n",
       "      <th>1</th>\n",
       "      <td>262328</td>\n",
       "      <td>1076</td>\n",
       "      <td>1378276</td>\n",
       "      <td>33295.98</td>\n",
       "      <td>21</td>\n",
       "      <td>8</td>\n",
       "      <td>35</td>\n",
       "      <td>0</td>\n",
       "      <td>229976</td>\n",
       "      <td>850784</td>\n",
       "      <td>...</td>\n",
       "      <td>0</td>\n",
       "      <td>0</td>\n",
       "      <td>0</td>\n",
       "      <td>0</td>\n",
       "      <td>0</td>\n",
       "      <td>0</td>\n",
       "      <td>0</td>\n",
       "      <td>0</td>\n",
       "      <td>0</td>\n",
       "      <td>0</td>\n",
       "    </tr>\n",
       "    <tr>\n",
       "      <th>2</th>\n",
       "      <td>99999999</td>\n",
       "      <td>741</td>\n",
       "      <td>2231892</td>\n",
       "      <td>29200.53</td>\n",
       "      <td>14</td>\n",
       "      <td>29</td>\n",
       "      <td>18</td>\n",
       "      <td>1</td>\n",
       "      <td>297996</td>\n",
       "      <td>750090</td>\n",
       "      <td>...</td>\n",
       "      <td>0</td>\n",
       "      <td>0</td>\n",
       "      <td>0</td>\n",
       "      <td>0</td>\n",
       "      <td>0</td>\n",
       "      <td>0</td>\n",
       "      <td>0</td>\n",
       "      <td>0</td>\n",
       "      <td>0</td>\n",
       "      <td>0</td>\n",
       "    </tr>\n",
       "    <tr>\n",
       "      <th>3</th>\n",
       "      <td>347666</td>\n",
       "      <td>721</td>\n",
       "      <td>806949</td>\n",
       "      <td>8741.90</td>\n",
       "      <td>12</td>\n",
       "      <td>34</td>\n",
       "      <td>9</td>\n",
       "      <td>0</td>\n",
       "      <td>256329</td>\n",
       "      <td>386958</td>\n",
       "      <td>...</td>\n",
       "      <td>0</td>\n",
       "      <td>0</td>\n",
       "      <td>0</td>\n",
       "      <td>0</td>\n",
       "      <td>0</td>\n",
       "      <td>0</td>\n",
       "      <td>0</td>\n",
       "      <td>0</td>\n",
       "      <td>0</td>\n",
       "      <td>0</td>\n",
       "    </tr>\n",
       "    <tr>\n",
       "      <th>4</th>\n",
       "      <td>176220</td>\n",
       "      <td>1076</td>\n",
       "      <td>1378276</td>\n",
       "      <td>20639.70</td>\n",
       "      <td>6</td>\n",
       "      <td>34</td>\n",
       "      <td>15</td>\n",
       "      <td>0</td>\n",
       "      <td>253460</td>\n",
       "      <td>427174</td>\n",
       "      <td>...</td>\n",
       "      <td>0</td>\n",
       "      <td>0</td>\n",
       "      <td>0</td>\n",
       "      <td>0</td>\n",
       "      <td>0</td>\n",
       "      <td>0</td>\n",
       "      <td>0</td>\n",
       "      <td>0</td>\n",
       "      <td>0</td>\n",
       "      <td>0</td>\n",
       "    </tr>\n",
       "  </tbody>\n",
       "</table>\n",
       "<p>5 rows × 45 columns</p>\n",
       "</div>"
      ],
      "text/plain": [
       "   Current Loan Amount  Credit Score  Annual Income  Monthly Debt  \\\n",
       "0               445412           709        1167493       5214.74   \n",
       "1               262328          1076        1378276      33295.98   \n",
       "2             99999999           741        2231892      29200.53   \n",
       "3               347666           721         806949       8741.90   \n",
       "4               176220          1076        1378276      20639.70   \n",
       "\n",
       "   Years of Credit History  Months since last delinquent  \\\n",
       "0                       17                            34   \n",
       "1                       21                             8   \n",
       "2                       14                            29   \n",
       "3                       12                            34   \n",
       "4                        6                            34   \n",
       "\n",
       "   Number of Open Accounts  Number of Credit Problems  Current Credit Balance  \\\n",
       "0                        6                          1                  228190   \n",
       "1                       35                          0                  229976   \n",
       "2                       18                          1                  297996   \n",
       "3                        9                          0                  256329   \n",
       "4                       15                          0                  253460   \n",
       "\n",
       "   Maximum Open Credit  ...  Purpose_Medical Bills  Purpose_Other  \\\n",
       "0               416746  ...                      0              0   \n",
       "1               850784  ...                      0              0   \n",
       "2               750090  ...                      0              0   \n",
       "3               386958  ...                      0              0   \n",
       "4               427174  ...                      0              0   \n",
       "\n",
       "   Purpose_Take a Trip  Purpose_major_purchase  Purpose_moving  Purpose_other  \\\n",
       "0                    0                       0               0              0   \n",
       "1                    0                       0               0              0   \n",
       "2                    0                       0               0              0   \n",
       "3                    0                       0               0              0   \n",
       "4                    0                       0               0              0   \n",
       "\n",
       "   Purpose_renewable_energy  Purpose_small_business  Purpose_vacation  \\\n",
       "0                         0                       0                 0   \n",
       "1                         0                       0                 0   \n",
       "2                         0                       0                 0   \n",
       "3                         0                       0                 0   \n",
       "4                         0                       0                 0   \n",
       "\n",
       "   Purpose_wedding  \n",
       "0                0  \n",
       "1                0  \n",
       "2                0  \n",
       "3                0  \n",
       "4                0  \n",
       "\n",
       "[5 rows x 45 columns]"
      ]
     },
     "execution_count": 31,
     "metadata": {},
     "output_type": "execute_result"
    }
   ],
   "source": [
    "# Kuvaus datasta jota ei ole normalisoitu\n",
    "xNoNorm.head()"
   ]
  },
  {
   "cell_type": "markdown",
   "metadata": {},
   "source": [
    "Siirrytään seuraavaksi luomaan mallia. Emme anna mallille parametreja, vaikka ehkä olisi syytä. Käy läpi vaikkapa  [esimerkkisuoritus](http://sdsawtelle.github.io/blog/output/week2-andrew-ng-machine-learning-with-python.html)."
   ]
  },
  {
   "cell_type": "code",
   "execution_count": 17,
   "metadata": {},
   "outputs": [
    {
     "data": {
      "text/plain": [
       "SGDClassifier()"
      ]
     },
     "execution_count": 17,
     "metadata": {},
     "output_type": "execute_result"
    }
   ],
   "source": [
    "# Luodaan luokittelija ja tehdään malli\n",
    "from sklearn.linear_model import SGDClassifier\n",
    "clf = SGDClassifier()\n",
    "# fit (train) the classifier\n",
    "clf.fit(xNoNorm_train, y_train)"
   ]
  },
  {
   "cell_type": "markdown",
   "metadata": {},
   "source": [
    "Lasketaan mallin [tarkkuus](https://scikit-learn.org/stable/modules/model_evaluation.html#accuracy-score) eli oikeiden ennusteiden osuuus."
   ]
  },
  {
   "cell_type": "code",
   "execution_count": 18,
   "metadata": {},
   "outputs": [
    {
     "name": "stdout",
     "output_type": "stream",
     "text": [
      "0.8218785237982543\n"
     ]
    }
   ],
   "source": [
    "from sklearn import metrics\n",
    "y_train_pred = clf.predict(xNoNorm_train)\n",
    "print (metrics.accuracy_score(y_train, y_train_pred))"
   ]
  },
  {
   "cell_type": "code",
   "execution_count": 19,
   "metadata": {},
   "outputs": [
    {
     "name": "stdout",
     "output_type": "stream",
     "text": [
      "0.8214658592608061\n"
     ]
    }
   ],
   "source": [
    "# Measure accuracy on the testing set\n",
    "y_pred = clf.predict(xNoNorm_test)\n",
    "print (metrics.accuracy_score(y_test, y_pred))"
   ]
  },
  {
   "cell_type": "markdown",
   "metadata": {},
   "source": [
    "Näytetään vielä [luokitteluraporttina](https://scikit-learn.org/stable/modules/model_evaluation.html#classification-report) miten onnistuimme."
   ]
  },
  {
   "cell_type": "code",
   "execution_count": 35,
   "metadata": {},
   "outputs": [
    {
     "name": "stdout",
     "output_type": "stream",
     "text": [
      "              precision    recall  f1-score   support\n",
      "\n",
      "           0       0.95      0.20      0.34      5337\n",
      "           1       0.81      1.00      0.90     18608\n",
      "\n",
      "    accuracy                           0.82     23945\n",
      "   macro avg       0.88      0.60      0.62     23945\n",
      "weighted avg       0.84      0.82      0.77     23945\n",
      "\n"
     ]
    }
   ],
   "source": [
    "print(metrics.classification_report(y_test, y_pred))"
   ]
  },
  {
   "cell_type": "markdown",
   "metadata": {},
   "source": [
    "Viimeisenä vielä [Confusion Matrix](https://scikit-learn.org/stable/auto_examples/model_selection/plot_confusion_matrix.html) eli virhematriisi. Miten tämä toimii? Diagonaalissa on ne rivit joiden kohdalla luokittelija on päätynyt oikeaan tulokseen."
   ]
  },
  {
   "cell_type": "code",
   "execution_count": 38,
   "metadata": {},
   "outputs": [],
   "source": [
    "# y_test"
   ]
  },
  {
   "cell_type": "code",
   "execution_count": 37,
   "metadata": {},
   "outputs": [
    {
     "data": {
      "text/plain": [
       "array([[ 1093,  4244],\n",
       "       [   55, 18553]])"
      ]
     },
     "execution_count": 37,
     "metadata": {},
     "output_type": "execute_result"
    }
   ],
   "source": [
    "confusion = metrics.confusion_matrix(y_test, y_pred)\n",
    "confusion"
   ]
  },
  {
   "cell_type": "markdown",
   "metadata": {},
   "source": [
    "Toimiiko luokittelija vai teemmekö merkittäviä virheitä?"
   ]
  },
  {
   "cell_type": "markdown",
   "metadata": {},
   "source": [
    "## Lopuksi"
   ]
  },
  {
   "cell_type": "markdown",
   "metadata": {},
   "source": [
    "![Virhetilanteita](image/biases.jpg)"
   ]
  },
  {
   "cell_type": "markdown",
   "metadata": {},
   "source": [
    "Vrt. oppimistavoitteet:\n",
    "\n",
    "* Mitä on koneoppiminen? \n",
    "* Mitä ovat piirteet ja miten ne liittyvät koneoppimiseen?\n",
    "* Miten koneoppimista sovelletaan datatieteessä?\n",
    "* Onko datatiede kokonaisuudessaan koneoppimista?\n",
    "* Miten koneoppiminen ja tekoäly liittyvät toisiinsa?"
   ]
  },
  {
   "cell_type": "markdown",
   "metadata": {},
   "source": [
    "## Johtopäätökset\n",
    "\n",
    "2024\n",
    "\n",
    "1. Dataa on aina jalostettava ja muunnettava jotta sitä voidaan hyödyntää koneoppimisessa parhaalla mahdollisella tavalla\n",
    "2. Datatieteen toteuttaminen edellyttää aina ymmärrystä tavoitteesta ja toimialasta\n",
    "3. Tekoäly (joka usein on koneoppimista) ei pelasta toimimatonta liiketoimintaa tai muita prosesseja\n",
    "\n",
    "\n",
    "2023\n",
    "\n",
    "1. Pelkkä visualisointikin voi olla laadukasta datatiedettä - koneoppimista ei ole syytä soveltaa joka paikkaan\n",
    "1. Koneoppimisalgoritmeja on erilaisia - ohjattu ja ohjaamaton, luokittelu, regressio, …\n",
    "1. Tekoäly perustuu usein koneoppimiseen, mutta juuri nyt keväällä 2023 käydään vilkasta keskustelua siitä, onko tilanne muuttunut\n"
   ]
  },
  {
   "cell_type": "code",
   "execution_count": null,
   "metadata": {},
   "outputs": [],
   "source": []
  }
 ],
 "metadata": {
  "kernelspec": {
   "display_name": "Python 3",
   "language": "python",
   "name": "python3"
  },
  "language_info": {
   "codemirror_mode": {
    "name": "ipython",
    "version": 3
   },
   "file_extension": ".py",
   "mimetype": "text/x-python",
   "name": "python",
   "nbconvert_exporter": "python",
   "pygments_lexer": "ipython3",
   "version": "3.8.2"
  }
 },
 "nbformat": 4,
 "nbformat_minor": 4
}

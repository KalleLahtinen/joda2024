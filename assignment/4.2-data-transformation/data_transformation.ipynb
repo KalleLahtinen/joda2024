{
 "cells": [
  {
   "cell_type": "markdown",
   "metadata": {},
   "source": [
    "## Data transformation\n",
    "\n",
    "This is the second automatically graded exercise for JODA. The objective here is to get our hands dirty with data. \n",
    "\n",
    "The context of this particular analysis is a fictional company that routinely runs different machine learning operations. \n",
    "\n",
    "We have generated a dataset that has the following columns or properties (to be engineered into features):\n",
    "\n",
    "* Date\n",
    "* Department\n",
    "* ML Task ID\n",
    "* ML Method\n",
    "* Task Category\n",
    "* Model Complexity (Parameters)\n",
    "* Training Data Size (GB)\n",
    "* Training Duration (Hours)\n",
    "* Hardware Used\n",
    "* Energy Consumption (kWh)\n",
    "* CO2 Emissions (Kg)\n",
    "* Cloud Provider\n",
    "\n",
    "Moreover, there is a secondary dataset that includes information about the energy sources for the different cloud providers:\n",
    "\n",
    "* Cloud Provider    \n",
    "* Green Energy\n"
   ]
  },
  {
   "cell_type": "markdown",
   "metadata": {},
   "source": [
    "Install the required packages using requirements.txt\n"
   ]
  },
  {
   "cell_type": "code",
   "execution_count": 40,
   "metadata": {},
   "outputs": [
    {
     "name": "stdout",
     "output_type": "stream",
     "text": [
      "Requirement already satisfied: asttokens==2.4.1 in c:\\users\\kalle\\documents\\ohjelmointi\\joda2024\\assignment\\4.2-data-transformation\\4.2\\lib\\site-packages (from -r requirements.txt (line 1)) (2.4.1)\n",
      "Requirement already satisfied: colorama==0.4.6 in c:\\users\\kalle\\documents\\ohjelmointi\\joda2024\\assignment\\4.2-data-transformation\\4.2\\lib\\site-packages (from -r requirements.txt (line 2)) (0.4.6)\n",
      "Requirement already satisfied: comm==0.2.2 in c:\\users\\kalle\\documents\\ohjelmointi\\joda2024\\assignment\\4.2-data-transformation\\4.2\\lib\\site-packages (from -r requirements.txt (line 3)) (0.2.2)\n",
      "Requirement already satisfied: debugpy==1.8.1 in c:\\users\\kalle\\documents\\ohjelmointi\\joda2024\\assignment\\4.2-data-transformation\\4.2\\lib\\site-packages (from -r requirements.txt (line 4)) (1.8.1)\n",
      "Requirement already satisfied: decorator==5.1.1 in c:\\users\\kalle\\documents\\ohjelmointi\\joda2024\\assignment\\4.2-data-transformation\\4.2\\lib\\site-packages (from -r requirements.txt (line 5)) (5.1.1)\n",
      "Requirement already satisfied: et-xmlfile==1.1.0 in c:\\users\\kalle\\documents\\ohjelmointi\\joda2024\\assignment\\4.2-data-transformation\\4.2\\lib\\site-packages (from -r requirements.txt (line 6)) (1.1.0)\n",
      "Requirement already satisfied: executing==2.0.1 in c:\\users\\kalle\\documents\\ohjelmointi\\joda2024\\assignment\\4.2-data-transformation\\4.2\\lib\\site-packages (from -r requirements.txt (line 7)) (2.0.1)\n",
      "Requirement already satisfied: ipykernel==6.29.4 in c:\\users\\kalle\\documents\\ohjelmointi\\joda2024\\assignment\\4.2-data-transformation\\4.2\\lib\\site-packages (from -r requirements.txt (line 8)) (6.29.4)\n",
      "Requirement already satisfied: ipython==8.22.2 in c:\\users\\kalle\\documents\\ohjelmointi\\joda2024\\assignment\\4.2-data-transformation\\4.2\\lib\\site-packages (from -r requirements.txt (line 9)) (8.22.2)\n",
      "Requirement already satisfied: jedi==0.19.1 in c:\\users\\kalle\\documents\\ohjelmointi\\joda2024\\assignment\\4.2-data-transformation\\4.2\\lib\\site-packages (from -r requirements.txt (line 10)) (0.19.1)\n",
      "Requirement already satisfied: jupyter_client==8.6.1 in c:\\users\\kalle\\documents\\ohjelmointi\\joda2024\\assignment\\4.2-data-transformation\\4.2\\lib\\site-packages (from -r requirements.txt (line 11)) (8.6.1)\n",
      "Requirement already satisfied: jupyter_core==5.7.2 in c:\\users\\kalle\\documents\\ohjelmointi\\joda2024\\assignment\\4.2-data-transformation\\4.2\\lib\\site-packages (from -r requirements.txt (line 12)) (5.7.2)\n",
      "Requirement already satisfied: matplotlib-inline==0.1.6 in c:\\users\\kalle\\documents\\ohjelmointi\\joda2024\\assignment\\4.2-data-transformation\\4.2\\lib\\site-packages (from -r requirements.txt (line 13)) (0.1.6)\n",
      "Requirement already satisfied: nest-asyncio==1.6.0 in c:\\users\\kalle\\documents\\ohjelmointi\\joda2024\\assignment\\4.2-data-transformation\\4.2\\lib\\site-packages (from -r requirements.txt (line 14)) (1.6.0)\n",
      "Requirement already satisfied: numpy==1.26.4 in c:\\users\\kalle\\documents\\ohjelmointi\\joda2024\\assignment\\4.2-data-transformation\\4.2\\lib\\site-packages (from -r requirements.txt (line 15)) (1.26.4)\n",
      "Requirement already satisfied: openpyxl==3.1.2 in c:\\users\\kalle\\documents\\ohjelmointi\\joda2024\\assignment\\4.2-data-transformation\\4.2\\lib\\site-packages (from -r requirements.txt (line 16)) (3.1.2)\n",
      "Requirement already satisfied: packaging==24.0 in c:\\users\\kalle\\documents\\ohjelmointi\\joda2024\\assignment\\4.2-data-transformation\\4.2\\lib\\site-packages (from -r requirements.txt (line 17)) (24.0)\n",
      "Requirement already satisfied: pandas==2.2.1 in c:\\users\\kalle\\documents\\ohjelmointi\\joda2024\\assignment\\4.2-data-transformation\\4.2\\lib\\site-packages (from -r requirements.txt (line 18)) (2.2.1)\n",
      "Requirement already satisfied: parso==0.8.3 in c:\\users\\kalle\\documents\\ohjelmointi\\joda2024\\assignment\\4.2-data-transformation\\4.2\\lib\\site-packages (from -r requirements.txt (line 19)) (0.8.3)\n",
      "Requirement already satisfied: platformdirs==4.2.0 in c:\\users\\kalle\\documents\\ohjelmointi\\joda2024\\assignment\\4.2-data-transformation\\4.2\\lib\\site-packages (from -r requirements.txt (line 20)) (4.2.0)\n",
      "Requirement already satisfied: prompt-toolkit==3.0.43 in c:\\users\\kalle\\documents\\ohjelmointi\\joda2024\\assignment\\4.2-data-transformation\\4.2\\lib\\site-packages (from -r requirements.txt (line 21)) (3.0.43)\n",
      "Requirement already satisfied: psutil==5.9.8 in c:\\users\\kalle\\documents\\ohjelmointi\\joda2024\\assignment\\4.2-data-transformation\\4.2\\lib\\site-packages (from -r requirements.txt (line 22)) (5.9.8)\n",
      "Requirement already satisfied: pure-eval==0.2.2 in c:\\users\\kalle\\documents\\ohjelmointi\\joda2024\\assignment\\4.2-data-transformation\\4.2\\lib\\site-packages (from -r requirements.txt (line 23)) (0.2.2)\n",
      "Requirement already satisfied: Pygments==2.17.2 in c:\\users\\kalle\\documents\\ohjelmointi\\joda2024\\assignment\\4.2-data-transformation\\4.2\\lib\\site-packages (from -r requirements.txt (line 24)) (2.17.2)\n",
      "Requirement already satisfied: python-dateutil==2.9.0.post0 in c:\\users\\kalle\\documents\\ohjelmointi\\joda2024\\assignment\\4.2-data-transformation\\4.2\\lib\\site-packages (from -r requirements.txt (line 25)) (2.9.0.post0)\n",
      "Requirement already satisfied: pytz==2024.1 in c:\\users\\kalle\\documents\\ohjelmointi\\joda2024\\assignment\\4.2-data-transformation\\4.2\\lib\\site-packages (from -r requirements.txt (line 26)) (2024.1)\n",
      "Requirement already satisfied: pywin32==306 in c:\\users\\kalle\\documents\\ohjelmointi\\joda2024\\assignment\\4.2-data-transformation\\4.2\\lib\\site-packages (from -r requirements.txt (line 27)) (306)\n",
      "Requirement already satisfied: pyzmq==25.1.2 in c:\\users\\kalle\\documents\\ohjelmointi\\joda2024\\assignment\\4.2-data-transformation\\4.2\\lib\\site-packages (from -r requirements.txt (line 28)) (25.1.2)\n",
      "Requirement already satisfied: six==1.16.0 in c:\\users\\kalle\\documents\\ohjelmointi\\joda2024\\assignment\\4.2-data-transformation\\4.2\\lib\\site-packages (from -r requirements.txt (line 29)) (1.16.0)\n",
      "Requirement already satisfied: stack-data==0.6.3 in c:\\users\\kalle\\documents\\ohjelmointi\\joda2024\\assignment\\4.2-data-transformation\\4.2\\lib\\site-packages (from -r requirements.txt (line 30)) (0.6.3)\n",
      "Requirement already satisfied: tornado==6.4 in c:\\users\\kalle\\documents\\ohjelmointi\\joda2024\\assignment\\4.2-data-transformation\\4.2\\lib\\site-packages (from -r requirements.txt (line 31)) (6.4)\n",
      "Requirement already satisfied: traitlets==5.14.2 in c:\\users\\kalle\\documents\\ohjelmointi\\joda2024\\assignment\\4.2-data-transformation\\4.2\\lib\\site-packages (from -r requirements.txt (line 32)) (5.14.2)\n",
      "Requirement already satisfied: tzdata==2024.1 in c:\\users\\kalle\\documents\\ohjelmointi\\joda2024\\assignment\\4.2-data-transformation\\4.2\\lib\\site-packages (from -r requirements.txt (line 33)) (2024.1)\n",
      "Requirement already satisfied: wcwidth==0.2.13 in c:\\users\\kalle\\documents\\ohjelmointi\\joda2024\\assignment\\4.2-data-transformation\\4.2\\lib\\site-packages (from -r requirements.txt (line 34)) (0.2.13)\n",
      "Note: you may need to restart the kernel to use updated packages.\n"
     ]
    },
    {
     "name": "stderr",
     "output_type": "stream",
     "text": [
      "\n",
      "[notice] A new release of pip is available: 23.2.1 -> 24.0\n",
      "[notice] To update, run: python.exe -m pip install --upgrade pip\n"
     ]
    }
   ],
   "source": [
    "pip install -r requirements.txt"
   ]
  },
  {
   "cell_type": "markdown",
   "metadata": {},
   "source": [
    "Import the needed packages"
   ]
  },
  {
   "cell_type": "code",
   "execution_count": 41,
   "metadata": {},
   "outputs": [],
   "source": [
    "import pandas as pd"
   ]
  },
  {
   "cell_type": "markdown",
   "metadata": {},
   "source": [
    "Read the two data files into data frames and merge them into one"
   ]
  },
  {
   "cell_type": "code",
   "execution_count": 42,
   "metadata": {},
   "outputs": [
    {
     "data": {
      "text/html": [
       "<div>\n",
       "<style scoped>\n",
       "    .dataframe tbody tr th:only-of-type {\n",
       "        vertical-align: middle;\n",
       "    }\n",
       "\n",
       "    .dataframe tbody tr th {\n",
       "        vertical-align: top;\n",
       "    }\n",
       "\n",
       "    .dataframe thead th {\n",
       "        text-align: right;\n",
       "    }\n",
       "</style>\n",
       "<table border=\"1\" class=\"dataframe\">\n",
       "  <thead>\n",
       "    <tr style=\"text-align: right;\">\n",
       "      <th></th>\n",
       "      <th>Cloud Provider</th>\n",
       "      <th>Green Energy</th>\n",
       "      <th>Date</th>\n",
       "      <th>Department</th>\n",
       "      <th>ML Task ID</th>\n",
       "      <th>ML Method</th>\n",
       "      <th>Task Category</th>\n",
       "      <th>Model Complexity (Parameters)</th>\n",
       "      <th>Training Data Size (GB)</th>\n",
       "      <th>Training Duration (Hours)</th>\n",
       "      <th>Hardware Used</th>\n",
       "      <th>Energy Consumption (kWh)</th>\n",
       "      <th>CO2 Emissions (Kg)</th>\n",
       "    </tr>\n",
       "  </thead>\n",
       "  <tbody>\n",
       "    <tr>\n",
       "      <th>0</th>\n",
       "      <td>CloudTech</td>\n",
       "      <td>Unknown</td>\n",
       "      <td>2024-02-01</td>\n",
       "      <td>Operations</td>\n",
       "      <td>Task_2</td>\n",
       "      <td>Linear Regression</td>\n",
       "      <td>Regression</td>\n",
       "      <td>1.053744e+03</td>\n",
       "      <td>12.288902</td>\n",
       "      <td>0.994852</td>\n",
       "      <td>TPU</td>\n",
       "      <td>12.260144</td>\n",
       "      <td>4.904058</td>\n",
       "    </tr>\n",
       "    <tr>\n",
       "      <th>1</th>\n",
       "      <td>CloudTech</td>\n",
       "      <td>Unknown</td>\n",
       "      <td>2024-02-01</td>\n",
       "      <td>R&amp;D</td>\n",
       "      <td>Task_3</td>\n",
       "      <td>Decision Tree</td>\n",
       "      <td>Machine Translation</td>\n",
       "      <td>1.098484e+03</td>\n",
       "      <td>127.561567</td>\n",
       "      <td>1.903623</td>\n",
       "      <td>CPU</td>\n",
       "      <td>27.869589</td>\n",
       "      <td>11.147836</td>\n",
       "    </tr>\n",
       "    <tr>\n",
       "      <th>2</th>\n",
       "      <td>CloudTech</td>\n",
       "      <td>Unknown</td>\n",
       "      <td>2024-02-03</td>\n",
       "      <td>Customer Support</td>\n",
       "      <td>Task_10</td>\n",
       "      <td>RNN</td>\n",
       "      <td>Text Generation</td>\n",
       "      <td>2.188188e+06</td>\n",
       "      <td>16.194136</td>\n",
       "      <td>11.772296</td>\n",
       "      <td>TPU</td>\n",
       "      <td>195.540627</td>\n",
       "      <td>78.216251</td>\n",
       "    </tr>\n",
       "    <tr>\n",
       "      <th>3</th>\n",
       "      <td>CloudTech</td>\n",
       "      <td>Unknown</td>\n",
       "      <td>2024-02-05</td>\n",
       "      <td>Finance</td>\n",
       "      <td>Task_17</td>\n",
       "      <td>RNN</td>\n",
       "      <td>Clustering</td>\n",
       "      <td>2.112308e+06</td>\n",
       "      <td>3.722296</td>\n",
       "      <td>12.892916</td>\n",
       "      <td>GPU</td>\n",
       "      <td>187.786419</td>\n",
       "      <td>75.114568</td>\n",
       "    </tr>\n",
       "    <tr>\n",
       "      <th>4</th>\n",
       "      <td>CloudTech</td>\n",
       "      <td>Unknown</td>\n",
       "      <td>2024-02-05</td>\n",
       "      <td>Marketing</td>\n",
       "      <td>Task_19</td>\n",
       "      <td>Linear Regression</td>\n",
       "      <td>Image Classification</td>\n",
       "      <td>8.349115e+02</td>\n",
       "      <td>74.796534</td>\n",
       "      <td>0.974523</td>\n",
       "      <td>CPU</td>\n",
       "      <td>18.340844</td>\n",
       "      <td>7.336338</td>\n",
       "    </tr>\n",
       "  </tbody>\n",
       "</table>\n",
       "</div>"
      ],
      "text/plain": [
       "  Cloud Provider Green Energy        Date        Department ML Task ID  \\\n",
       "0      CloudTech      Unknown  2024-02-01        Operations     Task_2   \n",
       "1      CloudTech      Unknown  2024-02-01               R&D     Task_3   \n",
       "2      CloudTech      Unknown  2024-02-03  Customer Support    Task_10   \n",
       "3      CloudTech      Unknown  2024-02-05           Finance    Task_17   \n",
       "4      CloudTech      Unknown  2024-02-05         Marketing    Task_19   \n",
       "\n",
       "           ML Method         Task Category  Model Complexity (Parameters)  \\\n",
       "0  Linear Regression            Regression                   1.053744e+03   \n",
       "1      Decision Tree   Machine Translation                   1.098484e+03   \n",
       "2                RNN       Text Generation                   2.188188e+06   \n",
       "3                RNN            Clustering                   2.112308e+06   \n",
       "4  Linear Regression  Image Classification                   8.349115e+02   \n",
       "\n",
       "   Training Data Size (GB)  Training Duration (Hours) Hardware Used  \\\n",
       "0                12.288902                   0.994852           TPU   \n",
       "1               127.561567                   1.903623           CPU   \n",
       "2                16.194136                  11.772296           TPU   \n",
       "3                 3.722296                  12.892916           GPU   \n",
       "4                74.796534                   0.974523           CPU   \n",
       "\n",
       "   Energy Consumption (kWh)  CO2 Emissions (Kg)  \n",
       "0                 12.260144            4.904058  \n",
       "1                 27.869589           11.147836  \n",
       "2                195.540627           78.216251  \n",
       "3                187.786419           75.114568  \n",
       "4                 18.340844            7.336338  "
      ]
     },
     "execution_count": 42,
     "metadata": {},
     "output_type": "execute_result"
    }
   ],
   "source": [
    "df_co2 = pd.read_excel('data/cloud-providers.xlsx', engine='openpyxl')\n",
    "df_providers = pd.read_excel('data/co2-emissions.xlsx', engine='openpyxl')\n",
    "df = pd.merge(df_co2, df_providers, on='Cloud Provider')\n",
    "df.head()"
   ]
  },
  {
   "cell_type": "markdown",
   "metadata": {},
   "source": [
    "Aggregate the data to department level and calculate the total of CO2 emissions for each department.\n",
    "Rename the emissions column to 'co2_emissions_kg'"
   ]
  },
  {
   "cell_type": "code",
   "execution_count": 43,
   "metadata": {},
   "outputs": [
    {
     "data": {
      "text/plain": [
       "Department\n",
       "Customer Support    12565.569898\n",
       "Finance             13568.637182\n",
       "Human Resources     15256.236043\n",
       "Marketing           12821.756125\n",
       "Operations          15004.901708\n",
       "Name: co2_emissions_kg, dtype: float64"
      ]
     },
     "execution_count": 43,
     "metadata": {},
     "output_type": "execute_result"
    }
   ],
   "source": [
    "total_co2 = df.groupby('Department')['CO2 Emissions (Kg)'].sum().rename('co2_emissions_kg')\n",
    "total_co2.head()"
   ]
  },
  {
   "cell_type": "markdown",
   "metadata": {},
   "source": [
    "Rename CO2 emission column to 'co2_emissions_kg'"
   ]
  },
  {
   "cell_type": "code",
   "execution_count": 44,
   "metadata": {},
   "outputs": [
    {
     "data": {
      "text/html": [
       "<div>\n",
       "<style scoped>\n",
       "    .dataframe tbody tr th:only-of-type {\n",
       "        vertical-align: middle;\n",
       "    }\n",
       "\n",
       "    .dataframe tbody tr th {\n",
       "        vertical-align: top;\n",
       "    }\n",
       "\n",
       "    .dataframe thead th {\n",
       "        text-align: right;\n",
       "    }\n",
       "</style>\n",
       "<table border=\"1\" class=\"dataframe\">\n",
       "  <thead>\n",
       "    <tr style=\"text-align: right;\">\n",
       "      <th></th>\n",
       "      <th>Cloud Provider</th>\n",
       "      <th>Green Energy</th>\n",
       "      <th>Date</th>\n",
       "      <th>Department</th>\n",
       "      <th>ML Task ID</th>\n",
       "      <th>ML Method</th>\n",
       "      <th>Task Category</th>\n",
       "      <th>Model Complexity (Parameters)</th>\n",
       "      <th>Training Data Size (GB)</th>\n",
       "      <th>Training Duration (Hours)</th>\n",
       "      <th>Hardware Used</th>\n",
       "      <th>Energy Consumption (kWh)</th>\n",
       "      <th>co2_emissions_kg</th>\n",
       "    </tr>\n",
       "  </thead>\n",
       "  <tbody>\n",
       "    <tr>\n",
       "      <th>0</th>\n",
       "      <td>CloudTech</td>\n",
       "      <td>Unknown</td>\n",
       "      <td>2024-02-01</td>\n",
       "      <td>Operations</td>\n",
       "      <td>Task_2</td>\n",
       "      <td>Linear Regression</td>\n",
       "      <td>Regression</td>\n",
       "      <td>1.053744e+03</td>\n",
       "      <td>12.288902</td>\n",
       "      <td>0.994852</td>\n",
       "      <td>TPU</td>\n",
       "      <td>12.260144</td>\n",
       "      <td>4.904058</td>\n",
       "    </tr>\n",
       "    <tr>\n",
       "      <th>1</th>\n",
       "      <td>CloudTech</td>\n",
       "      <td>Unknown</td>\n",
       "      <td>2024-02-01</td>\n",
       "      <td>R&amp;D</td>\n",
       "      <td>Task_3</td>\n",
       "      <td>Decision Tree</td>\n",
       "      <td>Machine Translation</td>\n",
       "      <td>1.098484e+03</td>\n",
       "      <td>127.561567</td>\n",
       "      <td>1.903623</td>\n",
       "      <td>CPU</td>\n",
       "      <td>27.869589</td>\n",
       "      <td>11.147836</td>\n",
       "    </tr>\n",
       "    <tr>\n",
       "      <th>2</th>\n",
       "      <td>CloudTech</td>\n",
       "      <td>Unknown</td>\n",
       "      <td>2024-02-03</td>\n",
       "      <td>Customer Support</td>\n",
       "      <td>Task_10</td>\n",
       "      <td>RNN</td>\n",
       "      <td>Text Generation</td>\n",
       "      <td>2.188188e+06</td>\n",
       "      <td>16.194136</td>\n",
       "      <td>11.772296</td>\n",
       "      <td>TPU</td>\n",
       "      <td>195.540627</td>\n",
       "      <td>78.216251</td>\n",
       "    </tr>\n",
       "    <tr>\n",
       "      <th>3</th>\n",
       "      <td>CloudTech</td>\n",
       "      <td>Unknown</td>\n",
       "      <td>2024-02-05</td>\n",
       "      <td>Finance</td>\n",
       "      <td>Task_17</td>\n",
       "      <td>RNN</td>\n",
       "      <td>Clustering</td>\n",
       "      <td>2.112308e+06</td>\n",
       "      <td>3.722296</td>\n",
       "      <td>12.892916</td>\n",
       "      <td>GPU</td>\n",
       "      <td>187.786419</td>\n",
       "      <td>75.114568</td>\n",
       "    </tr>\n",
       "    <tr>\n",
       "      <th>4</th>\n",
       "      <td>CloudTech</td>\n",
       "      <td>Unknown</td>\n",
       "      <td>2024-02-05</td>\n",
       "      <td>Marketing</td>\n",
       "      <td>Task_19</td>\n",
       "      <td>Linear Regression</td>\n",
       "      <td>Image Classification</td>\n",
       "      <td>8.349115e+02</td>\n",
       "      <td>74.796534</td>\n",
       "      <td>0.974523</td>\n",
       "      <td>CPU</td>\n",
       "      <td>18.340844</td>\n",
       "      <td>7.336338</td>\n",
       "    </tr>\n",
       "  </tbody>\n",
       "</table>\n",
       "</div>"
      ],
      "text/plain": [
       "  Cloud Provider Green Energy        Date        Department ML Task ID  \\\n",
       "0      CloudTech      Unknown  2024-02-01        Operations     Task_2   \n",
       "1      CloudTech      Unknown  2024-02-01               R&D     Task_3   \n",
       "2      CloudTech      Unknown  2024-02-03  Customer Support    Task_10   \n",
       "3      CloudTech      Unknown  2024-02-05           Finance    Task_17   \n",
       "4      CloudTech      Unknown  2024-02-05         Marketing    Task_19   \n",
       "\n",
       "           ML Method         Task Category  Model Complexity (Parameters)  \\\n",
       "0  Linear Regression            Regression                   1.053744e+03   \n",
       "1      Decision Tree   Machine Translation                   1.098484e+03   \n",
       "2                RNN       Text Generation                   2.188188e+06   \n",
       "3                RNN            Clustering                   2.112308e+06   \n",
       "4  Linear Regression  Image Classification                   8.349115e+02   \n",
       "\n",
       "   Training Data Size (GB)  Training Duration (Hours) Hardware Used  \\\n",
       "0                12.288902                   0.994852           TPU   \n",
       "1               127.561567                   1.903623           CPU   \n",
       "2                16.194136                  11.772296           TPU   \n",
       "3                 3.722296                  12.892916           GPU   \n",
       "4                74.796534                   0.974523           CPU   \n",
       "\n",
       "   Energy Consumption (kWh)  co2_emissions_kg  \n",
       "0                 12.260144          4.904058  \n",
       "1                 27.869589         11.147836  \n",
       "2                195.540627         78.216251  \n",
       "3                187.786419         75.114568  \n",
       "4                 18.340844          7.336338  "
      ]
     },
     "execution_count": 44,
     "metadata": {},
     "output_type": "execute_result"
    }
   ],
   "source": [
    "df = df.rename(columns={'CO2 Emissions (Kg)': 'co2_emissions_kg'})\n",
    "df.head()"
   ]
  },
  {
   "cell_type": "markdown",
   "metadata": {},
   "source": [
    "Create a function that picks the most common value among in a Pandas Series object"
   ]
  },
  {
   "cell_type": "code",
   "execution_count": 45,
   "metadata": {},
   "outputs": [
    {
     "data": {
      "text/plain": [
       "'B'"
      ]
     },
     "execution_count": 45,
     "metadata": {},
     "output_type": "execute_result"
    }
   ],
   "source": [
    "def pick_most_frequent(values):\n",
    "    if len(values.mode()) > 0:\n",
    "        return values.mode()[0]\n",
    "    else:\n",
    "        return pd.NA\n",
    "\n",
    "pick_most_frequent(pd.Series(['A', 'B', 'B', 'C']))"
   ]
  },
  {
   "cell_type": "markdown",
   "metadata": {},
   "source": [
    "Pick the most frequent ML method for each department."
   ]
  },
  {
   "cell_type": "code",
   "execution_count": 46,
   "metadata": {},
   "outputs": [
    {
     "name": "stdout",
     "output_type": "stream",
     "text": [
      "Department\n",
      "Customer Support     Linear Regression\n",
      "Finance                            RNN\n",
      "Human Resources     [RNN, Transformer]\n",
      "Marketing                Decision Tree\n",
      "Operations                 Transformer\n",
      "R&D                                RNN\n",
      "Name: ML Method, dtype: object\n"
     ]
    }
   ],
   "source": [
    "most_frequent_ml_method = df.groupby(\"Department\")[\"ML Method\"].agg(pd.Series.mode)\n",
    "print(most_frequent_ml_method)"
   ]
  },
  {
   "cell_type": "markdown",
   "metadata": {},
   "source": [
    "Calculate the CO2 emissions for each department in different Green Energy categories. That is, the resulting dataframe will have as many colums as there are values for Green Energy."
   ]
  },
  {
   "cell_type": "code",
   "execution_count": 47,
   "metadata": {},
   "outputs": [
    {
     "data": {
      "text/html": [
       "<div>\n",
       "<style scoped>\n",
       "    .dataframe tbody tr th:only-of-type {\n",
       "        vertical-align: middle;\n",
       "    }\n",
       "\n",
       "    .dataframe tbody tr th {\n",
       "        vertical-align: top;\n",
       "    }\n",
       "\n",
       "    .dataframe thead th {\n",
       "        text-align: right;\n",
       "    }\n",
       "</style>\n",
       "<table border=\"1\" class=\"dataframe\">\n",
       "  <thead>\n",
       "    <tr style=\"text-align: right;\">\n",
       "      <th>Green Energy</th>\n",
       "      <th>Green</th>\n",
       "      <th>Hybrid</th>\n",
       "      <th>Unknown</th>\n",
       "    </tr>\n",
       "    <tr>\n",
       "      <th>Department</th>\n",
       "      <th></th>\n",
       "      <th></th>\n",
       "      <th></th>\n",
       "    </tr>\n",
       "  </thead>\n",
       "  <tbody>\n",
       "    <tr>\n",
       "      <th>Customer Support</th>\n",
       "      <td>1463.697220</td>\n",
       "      <td>1425.139532</td>\n",
       "      <td>9676.733146</td>\n",
       "    </tr>\n",
       "    <tr>\n",
       "      <th>Finance</th>\n",
       "      <td>2991.539843</td>\n",
       "      <td>2427.085307</td>\n",
       "      <td>8150.012032</td>\n",
       "    </tr>\n",
       "    <tr>\n",
       "      <th>Human Resources</th>\n",
       "      <td>2423.439560</td>\n",
       "      <td>3431.874604</td>\n",
       "      <td>9400.921879</td>\n",
       "    </tr>\n",
       "    <tr>\n",
       "      <th>Marketing</th>\n",
       "      <td>2282.675323</td>\n",
       "      <td>2923.163567</td>\n",
       "      <td>7615.917236</td>\n",
       "    </tr>\n",
       "    <tr>\n",
       "      <th>Operations</th>\n",
       "      <td>2253.368372</td>\n",
       "      <td>3779.599277</td>\n",
       "      <td>8971.934059</td>\n",
       "    </tr>\n",
       "  </tbody>\n",
       "</table>\n",
       "</div>"
      ],
      "text/plain": [
       "Green Energy            Green       Hybrid      Unknown\n",
       "Department                                             \n",
       "Customer Support  1463.697220  1425.139532  9676.733146\n",
       "Finance           2991.539843  2427.085307  8150.012032\n",
       "Human Resources   2423.439560  3431.874604  9400.921879\n",
       "Marketing         2282.675323  2923.163567  7615.917236\n",
       "Operations        2253.368372  3779.599277  8971.934059"
      ]
     },
     "execution_count": 47,
     "metadata": {},
     "output_type": "execute_result"
    }
   ],
   "source": [
    "category_co2 = df.groupby(['Department', 'Green Energy'])['co2_emissions_kg'].sum().unstack(fill_value=0)\n",
    "\n",
    "# Ensure all expected categories are present, even if they're not in the data\n",
    "for category in ['Green', 'Hybrid', 'Unknown']:\n",
    "    if category not in category_co2:\n",
    "        category_co2[category] = 0\n",
    "\n",
    "category_co2.head()"
   ]
  },
  {
   "cell_type": "markdown",
   "metadata": {},
   "source": [
    "Combine everything into a final DataFrame"
   ]
  },
  {
   "cell_type": "code",
   "execution_count": 48,
   "metadata": {},
   "outputs": [
    {
     "data": {
      "text/html": [
       "<div>\n",
       "<style scoped>\n",
       "    .dataframe tbody tr th:only-of-type {\n",
       "        vertical-align: middle;\n",
       "    }\n",
       "\n",
       "    .dataframe tbody tr th {\n",
       "        vertical-align: top;\n",
       "    }\n",
       "\n",
       "    .dataframe thead th {\n",
       "        text-align: right;\n",
       "    }\n",
       "</style>\n",
       "<table border=\"1\" class=\"dataframe\">\n",
       "  <thead>\n",
       "    <tr style=\"text-align: right;\">\n",
       "      <th></th>\n",
       "      <th>Department</th>\n",
       "      <th>co2_emissions_kg</th>\n",
       "      <th>ML Method</th>\n",
       "      <th>Green</th>\n",
       "      <th>Hybrid</th>\n",
       "      <th>Unknown</th>\n",
       "    </tr>\n",
       "  </thead>\n",
       "  <tbody>\n",
       "    <tr>\n",
       "      <th>0</th>\n",
       "      <td>Customer Support</td>\n",
       "      <td>12565.569898</td>\n",
       "      <td>Linear Regression</td>\n",
       "      <td>1463.697220</td>\n",
       "      <td>1425.139532</td>\n",
       "      <td>9676.733146</td>\n",
       "    </tr>\n",
       "    <tr>\n",
       "      <th>1</th>\n",
       "      <td>Finance</td>\n",
       "      <td>13568.637182</td>\n",
       "      <td>RNN</td>\n",
       "      <td>2991.539843</td>\n",
       "      <td>2427.085307</td>\n",
       "      <td>8150.012032</td>\n",
       "    </tr>\n",
       "    <tr>\n",
       "      <th>2</th>\n",
       "      <td>Human Resources</td>\n",
       "      <td>15256.236043</td>\n",
       "      <td>RNN</td>\n",
       "      <td>2423.439560</td>\n",
       "      <td>3431.874604</td>\n",
       "      <td>9400.921879</td>\n",
       "    </tr>\n",
       "    <tr>\n",
       "      <th>3</th>\n",
       "      <td>Marketing</td>\n",
       "      <td>12821.756125</td>\n",
       "      <td>Decision Tree</td>\n",
       "      <td>2282.675323</td>\n",
       "      <td>2923.163567</td>\n",
       "      <td>7615.917236</td>\n",
       "    </tr>\n",
       "    <tr>\n",
       "      <th>4</th>\n",
       "      <td>Operations</td>\n",
       "      <td>15004.901708</td>\n",
       "      <td>Transformer</td>\n",
       "      <td>2253.368372</td>\n",
       "      <td>3779.599277</td>\n",
       "      <td>8971.934059</td>\n",
       "    </tr>\n",
       "  </tbody>\n",
       "</table>\n",
       "</div>"
      ],
      "text/plain": [
       "         Department  co2_emissions_kg          ML Method        Green  \\\n",
       "0  Customer Support      12565.569898  Linear Regression  1463.697220   \n",
       "1           Finance      13568.637182                RNN  2991.539843   \n",
       "2   Human Resources      15256.236043                RNN  2423.439560   \n",
       "3         Marketing      12821.756125      Decision Tree  2282.675323   \n",
       "4        Operations      15004.901708        Transformer  2253.368372   \n",
       "\n",
       "        Hybrid      Unknown  \n",
       "0  1425.139532  9676.733146  \n",
       "1  2427.085307  8150.012032  \n",
       "2  3431.874604  9400.921879  \n",
       "3  2923.163567  7615.917236  \n",
       "4  3779.599277  8971.934059  "
      ]
     },
     "execution_count": 48,
     "metadata": {},
     "output_type": "execute_result"
    }
   ],
   "source": [
    "ml_method_mode = df.groupby('Department')['ML Method'].apply(pick_most_frequent).rename('ML Method')\n",
    "\n",
    "# Combine everything into a final DataFrame\n",
    "df_final = pd.DataFrame(total_co2).join([ml_method_mode, category_co2]).reset_index()\n",
    "\n",
    "df_final.head()"
   ]
  },
  {
   "cell_type": "markdown",
   "metadata": {},
   "source": [
    "Make sure that the rows are sorted according to CO2 emissions in a way that the department with the largest emissions is first."
   ]
  },
  {
   "cell_type": "code",
   "execution_count": 49,
   "metadata": {},
   "outputs": [
    {
     "data": {
      "text/html": [
       "<div>\n",
       "<style scoped>\n",
       "    .dataframe tbody tr th:only-of-type {\n",
       "        vertical-align: middle;\n",
       "    }\n",
       "\n",
       "    .dataframe tbody tr th {\n",
       "        vertical-align: top;\n",
       "    }\n",
       "\n",
       "    .dataframe thead th {\n",
       "        text-align: right;\n",
       "    }\n",
       "</style>\n",
       "<table border=\"1\" class=\"dataframe\">\n",
       "  <thead>\n",
       "    <tr style=\"text-align: right;\">\n",
       "      <th></th>\n",
       "      <th>Department</th>\n",
       "      <th>co2_emissions_kg</th>\n",
       "      <th>ML Method</th>\n",
       "      <th>Green</th>\n",
       "      <th>Hybrid</th>\n",
       "      <th>Unknown</th>\n",
       "    </tr>\n",
       "  </thead>\n",
       "  <tbody>\n",
       "    <tr>\n",
       "      <th>2</th>\n",
       "      <td>Human Resources</td>\n",
       "      <td>15256.236043</td>\n",
       "      <td>RNN</td>\n",
       "      <td>2423.439560</td>\n",
       "      <td>3431.874604</td>\n",
       "      <td>9400.921879</td>\n",
       "    </tr>\n",
       "    <tr>\n",
       "      <th>4</th>\n",
       "      <td>Operations</td>\n",
       "      <td>15004.901708</td>\n",
       "      <td>Transformer</td>\n",
       "      <td>2253.368372</td>\n",
       "      <td>3779.599277</td>\n",
       "      <td>8971.934059</td>\n",
       "    </tr>\n",
       "    <tr>\n",
       "      <th>5</th>\n",
       "      <td>R&amp;D</td>\n",
       "      <td>14644.874294</td>\n",
       "      <td>RNN</td>\n",
       "      <td>3028.493500</td>\n",
       "      <td>2280.103568</td>\n",
       "      <td>9336.277226</td>\n",
       "    </tr>\n",
       "    <tr>\n",
       "      <th>1</th>\n",
       "      <td>Finance</td>\n",
       "      <td>13568.637182</td>\n",
       "      <td>RNN</td>\n",
       "      <td>2991.539843</td>\n",
       "      <td>2427.085307</td>\n",
       "      <td>8150.012032</td>\n",
       "    </tr>\n",
       "    <tr>\n",
       "      <th>3</th>\n",
       "      <td>Marketing</td>\n",
       "      <td>12821.756125</td>\n",
       "      <td>Decision Tree</td>\n",
       "      <td>2282.675323</td>\n",
       "      <td>2923.163567</td>\n",
       "      <td>7615.917236</td>\n",
       "    </tr>\n",
       "  </tbody>\n",
       "</table>\n",
       "</div>"
      ],
      "text/plain": [
       "        Department  co2_emissions_kg      ML Method        Green       Hybrid  \\\n",
       "2  Human Resources      15256.236043            RNN  2423.439560  3431.874604   \n",
       "4       Operations      15004.901708    Transformer  2253.368372  3779.599277   \n",
       "5              R&D      14644.874294            RNN  3028.493500  2280.103568   \n",
       "1          Finance      13568.637182            RNN  2991.539843  2427.085307   \n",
       "3        Marketing      12821.756125  Decision Tree  2282.675323  2923.163567   \n",
       "\n",
       "       Unknown  \n",
       "2  9400.921879  \n",
       "4  8971.934059  \n",
       "5  9336.277226  \n",
       "1  8150.012032  \n",
       "3  7615.917236  "
      ]
     },
     "execution_count": 49,
     "metadata": {},
     "output_type": "execute_result"
    }
   ],
   "source": [
    "df_final = df_final.sort_values(by='co2_emissions_kg', ascending=False)\n",
    "df_final.head()"
   ]
  },
  {
   "cell_type": "code",
   "execution_count": 50,
   "metadata": {},
   "outputs": [
    {
     "name": "stdout",
     "output_type": "stream",
     "text": [
      "Folder 'results' already exists.\n"
     ]
    }
   ],
   "source": [
    "import os\n",
    "\n",
    "def ensure_folder_exists(folder_path):\n",
    "    if not os.path.exists(folder_path):\n",
    "        os.makedirs(folder_path)\n",
    "        print(f\"Folder '{folder_path}' created.\")\n",
    "    else:\n",
    "        print(f\"Folder '{folder_path}' already exists.\")\n",
    "\n",
    "ensure_folder_exists('results')"
   ]
  },
  {
   "cell_type": "markdown",
   "metadata": {},
   "source": [
    "Finally, save the results."
   ]
  },
  {
   "cell_type": "code",
   "execution_count": 51,
   "metadata": {},
   "outputs": [
    {
     "ename": "PermissionError",
     "evalue": "[Errno 13] Permission denied: 'results/department_co2.xlsx'",
     "output_type": "error",
     "traceback": [
      "\u001b[1;31m---------------------------------------------------------------------------\u001b[0m",
      "\u001b[1;31mPermissionError\u001b[0m                           Traceback (most recent call last)",
      "Cell \u001b[1;32mIn[51], line 1\u001b[0m\n\u001b[1;32m----> 1\u001b[0m \u001b[43mdf_final\u001b[49m\u001b[38;5;241;43m.\u001b[39;49m\u001b[43mto_excel\u001b[49m\u001b[43m(\u001b[49m\u001b[38;5;124;43m'\u001b[39;49m\u001b[38;5;124;43mresults/department_co2.xlsx\u001b[39;49m\u001b[38;5;124;43m'\u001b[39;49m\u001b[43m,\u001b[49m\u001b[43m \u001b[49m\u001b[43mindex\u001b[49m\u001b[38;5;241;43m=\u001b[39;49m\u001b[38;5;28;43;01mFalse\u001b[39;49;00m\u001b[43m)\u001b[49m\n\u001b[0;32m      2\u001b[0m df_final\u001b[38;5;241m.\u001b[39mto_pickle(\u001b[38;5;124m'\u001b[39m\u001b[38;5;124mresults/department_co2.pkl\u001b[39m\u001b[38;5;124m'\u001b[39m)\n",
      "File \u001b[1;32mc:\\Users\\kalle\\Documents\\Ohjelmointi\\joda2024\\assignment\\4.2-data-transformation\\4.2\\Lib\\site-packages\\pandas\\util\\_decorators.py:333\u001b[0m, in \u001b[0;36mdeprecate_nonkeyword_arguments.<locals>.decorate.<locals>.wrapper\u001b[1;34m(*args, **kwargs)\u001b[0m\n\u001b[0;32m    327\u001b[0m \u001b[38;5;28;01mif\u001b[39;00m \u001b[38;5;28mlen\u001b[39m(args) \u001b[38;5;241m>\u001b[39m num_allow_args:\n\u001b[0;32m    328\u001b[0m     warnings\u001b[38;5;241m.\u001b[39mwarn(\n\u001b[0;32m    329\u001b[0m         msg\u001b[38;5;241m.\u001b[39mformat(arguments\u001b[38;5;241m=\u001b[39m_format_argument_list(allow_args)),\n\u001b[0;32m    330\u001b[0m         \u001b[38;5;167;01mFutureWarning\u001b[39;00m,\n\u001b[0;32m    331\u001b[0m         stacklevel\u001b[38;5;241m=\u001b[39mfind_stack_level(),\n\u001b[0;32m    332\u001b[0m     )\n\u001b[1;32m--> 333\u001b[0m \u001b[38;5;28;01mreturn\u001b[39;00m \u001b[43mfunc\u001b[49m\u001b[43m(\u001b[49m\u001b[38;5;241;43m*\u001b[39;49m\u001b[43margs\u001b[49m\u001b[43m,\u001b[49m\u001b[43m \u001b[49m\u001b[38;5;241;43m*\u001b[39;49m\u001b[38;5;241;43m*\u001b[39;49m\u001b[43mkwargs\u001b[49m\u001b[43m)\u001b[49m\n",
      "File \u001b[1;32mc:\\Users\\kalle\\Documents\\Ohjelmointi\\joda2024\\assignment\\4.2-data-transformation\\4.2\\Lib\\site-packages\\pandas\\core\\generic.py:2414\u001b[0m, in \u001b[0;36mNDFrame.to_excel\u001b[1;34m(self, excel_writer, sheet_name, na_rep, float_format, columns, header, index, index_label, startrow, startcol, engine, merge_cells, inf_rep, freeze_panes, storage_options, engine_kwargs)\u001b[0m\n\u001b[0;32m   2401\u001b[0m \u001b[38;5;28;01mfrom\u001b[39;00m \u001b[38;5;21;01mpandas\u001b[39;00m\u001b[38;5;21;01m.\u001b[39;00m\u001b[38;5;21;01mio\u001b[39;00m\u001b[38;5;21;01m.\u001b[39;00m\u001b[38;5;21;01mformats\u001b[39;00m\u001b[38;5;21;01m.\u001b[39;00m\u001b[38;5;21;01mexcel\u001b[39;00m \u001b[38;5;28;01mimport\u001b[39;00m ExcelFormatter\n\u001b[0;32m   2403\u001b[0m formatter \u001b[38;5;241m=\u001b[39m ExcelFormatter(\n\u001b[0;32m   2404\u001b[0m     df,\n\u001b[0;32m   2405\u001b[0m     na_rep\u001b[38;5;241m=\u001b[39mna_rep,\n\u001b[1;32m   (...)\u001b[0m\n\u001b[0;32m   2412\u001b[0m     inf_rep\u001b[38;5;241m=\u001b[39minf_rep,\n\u001b[0;32m   2413\u001b[0m )\n\u001b[1;32m-> 2414\u001b[0m \u001b[43mformatter\u001b[49m\u001b[38;5;241;43m.\u001b[39;49m\u001b[43mwrite\u001b[49m\u001b[43m(\u001b[49m\n\u001b[0;32m   2415\u001b[0m \u001b[43m    \u001b[49m\u001b[43mexcel_writer\u001b[49m\u001b[43m,\u001b[49m\n\u001b[0;32m   2416\u001b[0m \u001b[43m    \u001b[49m\u001b[43msheet_name\u001b[49m\u001b[38;5;241;43m=\u001b[39;49m\u001b[43msheet_name\u001b[49m\u001b[43m,\u001b[49m\n\u001b[0;32m   2417\u001b[0m \u001b[43m    \u001b[49m\u001b[43mstartrow\u001b[49m\u001b[38;5;241;43m=\u001b[39;49m\u001b[43mstartrow\u001b[49m\u001b[43m,\u001b[49m\n\u001b[0;32m   2418\u001b[0m \u001b[43m    \u001b[49m\u001b[43mstartcol\u001b[49m\u001b[38;5;241;43m=\u001b[39;49m\u001b[43mstartcol\u001b[49m\u001b[43m,\u001b[49m\n\u001b[0;32m   2419\u001b[0m \u001b[43m    \u001b[49m\u001b[43mfreeze_panes\u001b[49m\u001b[38;5;241;43m=\u001b[39;49m\u001b[43mfreeze_panes\u001b[49m\u001b[43m,\u001b[49m\n\u001b[0;32m   2420\u001b[0m \u001b[43m    \u001b[49m\u001b[43mengine\u001b[49m\u001b[38;5;241;43m=\u001b[39;49m\u001b[43mengine\u001b[49m\u001b[43m,\u001b[49m\n\u001b[0;32m   2421\u001b[0m \u001b[43m    \u001b[49m\u001b[43mstorage_options\u001b[49m\u001b[38;5;241;43m=\u001b[39;49m\u001b[43mstorage_options\u001b[49m\u001b[43m,\u001b[49m\n\u001b[0;32m   2422\u001b[0m \u001b[43m    \u001b[49m\u001b[43mengine_kwargs\u001b[49m\u001b[38;5;241;43m=\u001b[39;49m\u001b[43mengine_kwargs\u001b[49m\u001b[43m,\u001b[49m\n\u001b[0;32m   2423\u001b[0m \u001b[43m\u001b[49m\u001b[43m)\u001b[49m\n",
      "File \u001b[1;32mc:\\Users\\kalle\\Documents\\Ohjelmointi\\joda2024\\assignment\\4.2-data-transformation\\4.2\\Lib\\site-packages\\pandas\\io\\formats\\excel.py:943\u001b[0m, in \u001b[0;36mExcelFormatter.write\u001b[1;34m(self, writer, sheet_name, startrow, startcol, freeze_panes, engine, storage_options, engine_kwargs)\u001b[0m\n\u001b[0;32m    941\u001b[0m     need_save \u001b[38;5;241m=\u001b[39m \u001b[38;5;28;01mFalse\u001b[39;00m\n\u001b[0;32m    942\u001b[0m \u001b[38;5;28;01melse\u001b[39;00m:\n\u001b[1;32m--> 943\u001b[0m     writer \u001b[38;5;241m=\u001b[39m \u001b[43mExcelWriter\u001b[49m\u001b[43m(\u001b[49m\n\u001b[0;32m    944\u001b[0m \u001b[43m        \u001b[49m\u001b[43mwriter\u001b[49m\u001b[43m,\u001b[49m\n\u001b[0;32m    945\u001b[0m \u001b[43m        \u001b[49m\u001b[43mengine\u001b[49m\u001b[38;5;241;43m=\u001b[39;49m\u001b[43mengine\u001b[49m\u001b[43m,\u001b[49m\n\u001b[0;32m    946\u001b[0m \u001b[43m        \u001b[49m\u001b[43mstorage_options\u001b[49m\u001b[38;5;241;43m=\u001b[39;49m\u001b[43mstorage_options\u001b[49m\u001b[43m,\u001b[49m\n\u001b[0;32m    947\u001b[0m \u001b[43m        \u001b[49m\u001b[43mengine_kwargs\u001b[49m\u001b[38;5;241;43m=\u001b[39;49m\u001b[43mengine_kwargs\u001b[49m\u001b[43m,\u001b[49m\n\u001b[0;32m    948\u001b[0m \u001b[43m    \u001b[49m\u001b[43m)\u001b[49m\n\u001b[0;32m    949\u001b[0m     need_save \u001b[38;5;241m=\u001b[39m \u001b[38;5;28;01mTrue\u001b[39;00m\n\u001b[0;32m    951\u001b[0m \u001b[38;5;28;01mtry\u001b[39;00m:\n",
      "File \u001b[1;32mc:\\Users\\kalle\\Documents\\Ohjelmointi\\joda2024\\assignment\\4.2-data-transformation\\4.2\\Lib\\site-packages\\pandas\\io\\excel\\_openpyxl.py:61\u001b[0m, in \u001b[0;36mOpenpyxlWriter.__init__\u001b[1;34m(self, path, engine, date_format, datetime_format, mode, storage_options, if_sheet_exists, engine_kwargs, **kwargs)\u001b[0m\n\u001b[0;32m     57\u001b[0m \u001b[38;5;28;01mfrom\u001b[39;00m \u001b[38;5;21;01mopenpyxl\u001b[39;00m\u001b[38;5;21;01m.\u001b[39;00m\u001b[38;5;21;01mworkbook\u001b[39;00m \u001b[38;5;28;01mimport\u001b[39;00m Workbook\n\u001b[0;32m     59\u001b[0m engine_kwargs \u001b[38;5;241m=\u001b[39m combine_kwargs(engine_kwargs, kwargs)\n\u001b[1;32m---> 61\u001b[0m \u001b[38;5;28;43msuper\u001b[39;49m\u001b[43m(\u001b[49m\u001b[43m)\u001b[49m\u001b[38;5;241;43m.\u001b[39;49m\u001b[38;5;21;43m__init__\u001b[39;49m\u001b[43m(\u001b[49m\n\u001b[0;32m     62\u001b[0m \u001b[43m    \u001b[49m\u001b[43mpath\u001b[49m\u001b[43m,\u001b[49m\n\u001b[0;32m     63\u001b[0m \u001b[43m    \u001b[49m\u001b[43mmode\u001b[49m\u001b[38;5;241;43m=\u001b[39;49m\u001b[43mmode\u001b[49m\u001b[43m,\u001b[49m\n\u001b[0;32m     64\u001b[0m \u001b[43m    \u001b[49m\u001b[43mstorage_options\u001b[49m\u001b[38;5;241;43m=\u001b[39;49m\u001b[43mstorage_options\u001b[49m\u001b[43m,\u001b[49m\n\u001b[0;32m     65\u001b[0m \u001b[43m    \u001b[49m\u001b[43mif_sheet_exists\u001b[49m\u001b[38;5;241;43m=\u001b[39;49m\u001b[43mif_sheet_exists\u001b[49m\u001b[43m,\u001b[49m\n\u001b[0;32m     66\u001b[0m \u001b[43m    \u001b[49m\u001b[43mengine_kwargs\u001b[49m\u001b[38;5;241;43m=\u001b[39;49m\u001b[43mengine_kwargs\u001b[49m\u001b[43m,\u001b[49m\n\u001b[0;32m     67\u001b[0m \u001b[43m\u001b[49m\u001b[43m)\u001b[49m\n\u001b[0;32m     69\u001b[0m \u001b[38;5;66;03m# ExcelWriter replaced \"a\" by \"r+\" to allow us to first read the excel file from\u001b[39;00m\n\u001b[0;32m     70\u001b[0m \u001b[38;5;66;03m# the file and later write to it\u001b[39;00m\n\u001b[0;32m     71\u001b[0m \u001b[38;5;28;01mif\u001b[39;00m \u001b[38;5;124m\"\u001b[39m\u001b[38;5;124mr+\u001b[39m\u001b[38;5;124m\"\u001b[39m \u001b[38;5;129;01min\u001b[39;00m \u001b[38;5;28mself\u001b[39m\u001b[38;5;241m.\u001b[39m_mode:  \u001b[38;5;66;03m# Load from existing workbook\u001b[39;00m\n",
      "File \u001b[1;32mc:\\Users\\kalle\\Documents\\Ohjelmointi\\joda2024\\assignment\\4.2-data-transformation\\4.2\\Lib\\site-packages\\pandas\\io\\excel\\_base.py:1246\u001b[0m, in \u001b[0;36mExcelWriter.__init__\u001b[1;34m(self, path, engine, date_format, datetime_format, mode, storage_options, if_sheet_exists, engine_kwargs)\u001b[0m\n\u001b[0;32m   1242\u001b[0m \u001b[38;5;28mself\u001b[39m\u001b[38;5;241m.\u001b[39m_handles \u001b[38;5;241m=\u001b[39m IOHandles(\n\u001b[0;32m   1243\u001b[0m     cast(IO[\u001b[38;5;28mbytes\u001b[39m], path), compression\u001b[38;5;241m=\u001b[39m{\u001b[38;5;124m\"\u001b[39m\u001b[38;5;124mcompression\u001b[39m\u001b[38;5;124m\"\u001b[39m: \u001b[38;5;28;01mNone\u001b[39;00m}\n\u001b[0;32m   1244\u001b[0m )\n\u001b[0;32m   1245\u001b[0m \u001b[38;5;28;01mif\u001b[39;00m \u001b[38;5;129;01mnot\u001b[39;00m \u001b[38;5;28misinstance\u001b[39m(path, ExcelWriter):\n\u001b[1;32m-> 1246\u001b[0m     \u001b[38;5;28mself\u001b[39m\u001b[38;5;241m.\u001b[39m_handles \u001b[38;5;241m=\u001b[39m \u001b[43mget_handle\u001b[49m\u001b[43m(\u001b[49m\n\u001b[0;32m   1247\u001b[0m \u001b[43m        \u001b[49m\u001b[43mpath\u001b[49m\u001b[43m,\u001b[49m\u001b[43m \u001b[49m\u001b[43mmode\u001b[49m\u001b[43m,\u001b[49m\u001b[43m \u001b[49m\u001b[43mstorage_options\u001b[49m\u001b[38;5;241;43m=\u001b[39;49m\u001b[43mstorage_options\u001b[49m\u001b[43m,\u001b[49m\u001b[43m \u001b[49m\u001b[43mis_text\u001b[49m\u001b[38;5;241;43m=\u001b[39;49m\u001b[38;5;28;43;01mFalse\u001b[39;49;00m\n\u001b[0;32m   1248\u001b[0m \u001b[43m    \u001b[49m\u001b[43m)\u001b[49m\n\u001b[0;32m   1249\u001b[0m \u001b[38;5;28mself\u001b[39m\u001b[38;5;241m.\u001b[39m_cur_sheet \u001b[38;5;241m=\u001b[39m \u001b[38;5;28;01mNone\u001b[39;00m\n\u001b[0;32m   1251\u001b[0m \u001b[38;5;28;01mif\u001b[39;00m date_format \u001b[38;5;129;01mis\u001b[39;00m \u001b[38;5;28;01mNone\u001b[39;00m:\n",
      "File \u001b[1;32mc:\\Users\\kalle\\Documents\\Ohjelmointi\\joda2024\\assignment\\4.2-data-transformation\\4.2\\Lib\\site-packages\\pandas\\io\\common.py:882\u001b[0m, in \u001b[0;36mget_handle\u001b[1;34m(path_or_buf, mode, encoding, compression, memory_map, is_text, errors, storage_options)\u001b[0m\n\u001b[0;32m    873\u001b[0m         handle \u001b[38;5;241m=\u001b[39m \u001b[38;5;28mopen\u001b[39m(\n\u001b[0;32m    874\u001b[0m             handle,\n\u001b[0;32m    875\u001b[0m             ioargs\u001b[38;5;241m.\u001b[39mmode,\n\u001b[1;32m   (...)\u001b[0m\n\u001b[0;32m    878\u001b[0m             newline\u001b[38;5;241m=\u001b[39m\u001b[38;5;124m\"\u001b[39m\u001b[38;5;124m\"\u001b[39m,\n\u001b[0;32m    879\u001b[0m         )\n\u001b[0;32m    880\u001b[0m     \u001b[38;5;28;01melse\u001b[39;00m:\n\u001b[0;32m    881\u001b[0m         \u001b[38;5;66;03m# Binary mode\u001b[39;00m\n\u001b[1;32m--> 882\u001b[0m         handle \u001b[38;5;241m=\u001b[39m \u001b[38;5;28mopen\u001b[39m(handle, ioargs\u001b[38;5;241m.\u001b[39mmode)\n\u001b[0;32m    883\u001b[0m     handles\u001b[38;5;241m.\u001b[39mappend(handle)\n\u001b[0;32m    885\u001b[0m \u001b[38;5;66;03m# Convert BytesIO or file objects passed with an encoding\u001b[39;00m\n",
      "\u001b[1;31mPermissionError\u001b[0m: [Errno 13] Permission denied: 'results/department_co2.xlsx'"
     ]
    }
   ],
   "source": [
    "df_final.to_excel('results/department_co2.xlsx', index=False)\n",
    "df_final.to_pickle('results/department_co2.pkl')"
   ]
  }
 ],
 "metadata": {
  "kernelspec": {
   "display_name": ".venv",
   "language": "python",
   "name": "python3"
  },
  "language_info": {
   "codemirror_mode": {
    "name": "ipython",
    "version": 3
   },
   "file_extension": ".py",
   "mimetype": "text/x-python",
   "name": "python",
   "nbconvert_exporter": "python",
   "pygments_lexer": "ipython3",
   "version": "3.11.7"
  }
 },
 "nbformat": 4,
 "nbformat_minor": 2
}
